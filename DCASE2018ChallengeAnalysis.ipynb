{
 "cells": [
  {
   "cell_type": "markdown",
   "metadata": {},
   "source": [
    "# DCASE 2018 Audio Tagging Challenge"
   ]
  },
  {
   "cell_type": "markdown",
   "metadata": {
    "collapsed": true
   },
   "source": [
    "Start with importing some libraries"
   ]
  },
  {
   "cell_type": "code",
   "execution_count": 208,
   "metadata": {
    "collapsed": true
   },
   "outputs": [],
   "source": [
    "import matplotlib as plt\n",
    "%matplotlib inline\n",
    "import IPython.display as ipd\n",
    "import seaborn as sns\n",
    "import numpy as np\n",
    "import pandas as pd\n",
    "from scipy.io.wavfile import read as read_wav\n",
    "import librosa\n",
    "from sklearn.neighbors import KNeighborsClassifier\n",
    "from progressbar import ProgressBar\n"
   ]
  },
  {
   "cell_type": "markdown",
   "metadata": {},
   "source": [
    "# Import Training Data Attributes"
   ]
  },
  {
   "cell_type": "code",
   "execution_count": 200,
   "metadata": {},
   "outputs": [],
   "source": [
    "#Set notebook path\n",
    "path = '/Users/humza/Documents/Kaggle/DCASE2018'\n",
    "#Training data path\n",
    "train_audio_path = '/Users/humza/Documents/Kaggle/DCASE2018/RawData/audio_train'\n",
    "#Test data path\n",
    "test_audio_path = '/Users/humza/Documents/Kaggle/DCASE2018/RawData/audio_test'"
   ]
  },
  {
   "cell_type": "code",
   "execution_count": 66,
   "metadata": {
    "collapsed": true
   },
   "outputs": [],
   "source": [
    "#Import Training data\n",
    "trainAtt = pd.read_csv(path + '/train.csv')"
   ]
  },
  {
   "cell_type": "code",
   "execution_count": 174,
   "metadata": {},
   "outputs": [
    {
     "data": {
      "text/plain": [
       "(41,)"
      ]
     },
     "execution_count": 174,
     "metadata": {},
     "output_type": "execute_result"
    }
   ],
   "source": [
    "#Get list of unique sorted labels\n",
    "labelList=np.sort(trainAtt['label'].unique())"
   ]
  },
  {
   "cell_type": "code",
   "execution_count": 67,
   "metadata": {},
   "outputs": [
    {
     "data": {
      "text/html": [
       "<div>\n",
       "<style>\n",
       "    .dataframe thead tr:only-child th {\n",
       "        text-align: right;\n",
       "    }\n",
       "\n",
       "    .dataframe thead th {\n",
       "        text-align: left;\n",
       "    }\n",
       "\n",
       "    .dataframe tbody tr th {\n",
       "        vertical-align: top;\n",
       "    }\n",
       "</style>\n",
       "<table border=\"1\" class=\"dataframe\">\n",
       "  <thead>\n",
       "    <tr style=\"text-align: right;\">\n",
       "      <th></th>\n",
       "      <th>fname</th>\n",
       "      <th>label</th>\n",
       "      <th>manually_verified</th>\n",
       "    </tr>\n",
       "  </thead>\n",
       "  <tbody>\n",
       "    <tr>\n",
       "      <th>0</th>\n",
       "      <td>00044347.wav</td>\n",
       "      <td>Hi-hat</td>\n",
       "      <td>0</td>\n",
       "    </tr>\n",
       "    <tr>\n",
       "      <th>1</th>\n",
       "      <td>001ca53d.wav</td>\n",
       "      <td>Saxophone</td>\n",
       "      <td>1</td>\n",
       "    </tr>\n",
       "    <tr>\n",
       "      <th>2</th>\n",
       "      <td>002d256b.wav</td>\n",
       "      <td>Trumpet</td>\n",
       "      <td>0</td>\n",
       "    </tr>\n",
       "    <tr>\n",
       "      <th>3</th>\n",
       "      <td>0033e230.wav</td>\n",
       "      <td>Glockenspiel</td>\n",
       "      <td>1</td>\n",
       "    </tr>\n",
       "    <tr>\n",
       "      <th>4</th>\n",
       "      <td>00353774.wav</td>\n",
       "      <td>Cello</td>\n",
       "      <td>1</td>\n",
       "    </tr>\n",
       "  </tbody>\n",
       "</table>\n",
       "</div>"
      ],
      "text/plain": [
       "          fname         label  manually_verified\n",
       "0  00044347.wav        Hi-hat                  0\n",
       "1  001ca53d.wav     Saxophone                  1\n",
       "2  002d256b.wav       Trumpet                  0\n",
       "3  0033e230.wav  Glockenspiel                  1\n",
       "4  00353774.wav         Cello                  1"
      ]
     },
     "execution_count": 67,
     "metadata": {},
     "output_type": "execute_result"
    }
   ],
   "source": [
    "#Show structure of the training data csv file\n",
    "trainAtt.head()"
   ]
  },
  {
   "cell_type": "markdown",
   "metadata": {},
   "source": [
    "## Describe the training data"
   ]
  },
  {
   "cell_type": "code",
   "execution_count": 68,
   "metadata": {},
   "outputs": [
    {
     "name": "stdout",
     "output_type": "stream",
     "text": [
      "Number of Training Examples: 9473\n",
      "Number of Manually Verified Examples 3710\n",
      "Number of Auto Labeled Examples 5763\n"
     ]
    }
   ],
   "source": [
    "print(\"Number of Training Examples:\", len(trainAtt))\n",
    "print(\"Number of Manually Verified Examples\", (trainAtt['manually_verified'] == 1).sum())\n",
    "print(\"Number of Auto Labeled Examples\", (trainAtt['manually_verified'] == 0).sum())"
   ]
  },
  {
   "cell_type": "code",
   "execution_count": 69,
   "metadata": {},
   "outputs": [
    {
     "name": "stdout",
     "output_type": "stream",
     "text": [
      "Number of labels 41\n"
     ]
    }
   ],
   "source": [
    "print(\"Number of labels\", len(trainAtt.label.unique()))"
   ]
  },
  {
   "cell_type": "code",
   "execution_count": 70,
   "metadata": {},
   "outputs": [
    {
     "data": {
      "text/plain": [
       "<matplotlib.axes._subplots.AxesSubplot at 0x110945b70>"
      ]
     },
     "execution_count": 70,
     "metadata": {},
     "output_type": "execute_result"
    },
    {
     "data": {
      "image/png": "[encoded data removed]",
      "text/plain": [
       "<matplotlib.figure.Figure at 0x110945390>"
      ]
     },
     "metadata": {},
     "output_type": "display_data"
    }
   ],
   "source": [
    "#Group training examples by labels\n",
    "labelCategories=trainAtt.groupby(['label','manually_verified']).count()\n",
    "#Sort Labels\n",
    "labelCategories=labelCategories.unstack().reindex(labelCategories.unstack().sum(axis=1).sort_values().index)\n",
    "#Plot\n",
    "labelCategories.plot(kind=\"bar\",stacked=True,title=\"Label Distributions\",figsize=(8,8))"
   ]
  },
  {
   "cell_type": "code",
   "execution_count": 71,
   "metadata": {},
   "outputs": [
    {
     "data": {
      "text/html": [
       "<div>\n",
       "<style>\n",
       "    .dataframe thead tr:only-child th {\n",
       "        text-align: right;\n",
       "    }\n",
       "\n",
       "    .dataframe thead th {\n",
       "        text-align: left;\n",
       "    }\n",
       "\n",
       "    .dataframe tbody tr th {\n",
       "        vertical-align: top;\n",
       "    }\n",
       "</style>\n",
       "<table border=\"1\" class=\"dataframe\">\n",
       "  <thead>\n",
       "    <tr>\n",
       "      <th></th>\n",
       "      <th colspan=\"2\" halign=\"left\">fname</th>\n",
       "    </tr>\n",
       "    <tr>\n",
       "      <th>manually_verified</th>\n",
       "      <th>0</th>\n",
       "      <th>1</th>\n",
       "    </tr>\n",
       "    <tr>\n",
       "      <th>label</th>\n",
       "      <th></th>\n",
       "      <th></th>\n",
       "    </tr>\n",
       "  </thead>\n",
       "  <tbody>\n",
       "    <tr>\n",
       "      <th>Glockenspiel</th>\n",
       "      <td>24</td>\n",
       "      <td>70</td>\n",
       "    </tr>\n",
       "    <tr>\n",
       "      <th>Scissors</th>\n",
       "      <td>36</td>\n",
       "      <td>59</td>\n",
       "    </tr>\n",
       "    <tr>\n",
       "      <th>Bus</th>\n",
       "      <td>50</td>\n",
       "      <td>59</td>\n",
       "    </tr>\n",
       "    <tr>\n",
       "      <th>Chime</th>\n",
       "      <td>49</td>\n",
       "      <td>66</td>\n",
       "    </tr>\n",
       "    <tr>\n",
       "      <th>Finger_snapping</th>\n",
       "      <td>40</td>\n",
       "      <td>77</td>\n",
       "    </tr>\n",
       "    <tr>\n",
       "      <th>Computer_keyboard</th>\n",
       "      <td>59</td>\n",
       "      <td>60</td>\n",
       "    </tr>\n",
       "    <tr>\n",
       "      <th>Telephone</th>\n",
       "      <td>8</td>\n",
       "      <td>112</td>\n",
       "    </tr>\n",
       "    <tr>\n",
       "      <th>Keys_jangling</th>\n",
       "      <td>73</td>\n",
       "      <td>66</td>\n",
       "    </tr>\n",
       "    <tr>\n",
       "      <th>Microwave_oven</th>\n",
       "      <td>79</td>\n",
       "      <td>67</td>\n",
       "    </tr>\n",
       "    <tr>\n",
       "      <th>Gunshot_or_gunfire</th>\n",
       "      <td>2</td>\n",
       "      <td>145</td>\n",
       "    </tr>\n",
       "    <tr>\n",
       "      <th>Electric_piano</th>\n",
       "      <td>76</td>\n",
       "      <td>74</td>\n",
       "    </tr>\n",
       "    <tr>\n",
       "      <th>Meow</th>\n",
       "      <td>86</td>\n",
       "      <td>69</td>\n",
       "    </tr>\n",
       "    <tr>\n",
       "      <th>Drawer_open_or_close</th>\n",
       "      <td>91</td>\n",
       "      <td>67</td>\n",
       "    </tr>\n",
       "    <tr>\n",
       "      <th>Harmonica</th>\n",
       "      <td>77</td>\n",
       "      <td>88</td>\n",
       "    </tr>\n",
       "    <tr>\n",
       "      <th>Cowbell</th>\n",
       "      <td>95</td>\n",
       "      <td>96</td>\n",
       "    </tr>\n",
       "    <tr>\n",
       "      <th>Burping_or_eructation</th>\n",
       "      <td>135</td>\n",
       "      <td>75</td>\n",
       "    </tr>\n",
       "    <tr>\n",
       "      <th>Tambourine</th>\n",
       "      <td>129</td>\n",
       "      <td>92</td>\n",
       "    </tr>\n",
       "    <tr>\n",
       "      <th>Bark</th>\n",
       "      <td>172</td>\n",
       "      <td>67</td>\n",
       "    </tr>\n",
       "    <tr>\n",
       "      <th>Cough</th>\n",
       "      <td>174</td>\n",
       "      <td>69</td>\n",
       "    </tr>\n",
       "    <tr>\n",
       "      <th>Writing</th>\n",
       "      <td>203</td>\n",
       "      <td>67</td>\n",
       "    </tr>\n",
       "    <tr>\n",
       "      <th>Knock</th>\n",
       "      <td>189</td>\n",
       "      <td>90</td>\n",
       "    </tr>\n",
       "    <tr>\n",
       "      <th>Gong</th>\n",
       "      <td>207</td>\n",
       "      <td>85</td>\n",
       "    </tr>\n",
       "    <tr>\n",
       "      <th>Oboe</th>\n",
       "      <td>200</td>\n",
       "      <td>99</td>\n",
       "    </tr>\n",
       "    <tr>\n",
       "      <th>Flute</th>\n",
       "      <td>172</td>\n",
       "      <td>128</td>\n",
       "    </tr>\n",
       "    <tr>\n",
       "      <th>Trumpet</th>\n",
       "      <td>214</td>\n",
       "      <td>86</td>\n",
       "    </tr>\n",
       "    <tr>\n",
       "      <th>Applause</th>\n",
       "      <td>239</td>\n",
       "      <td>61</td>\n",
       "    </tr>\n",
       "    <tr>\n",
       "      <th>Tearing</th>\n",
       "      <td>238</td>\n",
       "      <td>62</td>\n",
       "    </tr>\n",
       "    <tr>\n",
       "      <th>Bass_drum</th>\n",
       "      <td>233</td>\n",
       "      <td>67</td>\n",
       "    </tr>\n",
       "    <tr>\n",
       "      <th>Squeak</th>\n",
       "      <td>231</td>\n",
       "      <td>69</td>\n",
       "    </tr>\n",
       "    <tr>\n",
       "      <th>Snare_drum</th>\n",
       "      <td>230</td>\n",
       "      <td>70</td>\n",
       "    </tr>\n",
       "    <tr>\n",
       "      <th>Shatter</th>\n",
       "      <td>233</td>\n",
       "      <td>67</td>\n",
       "    </tr>\n",
       "    <tr>\n",
       "      <th>Cello</th>\n",
       "      <td>175</td>\n",
       "      <td>125</td>\n",
       "    </tr>\n",
       "    <tr>\n",
       "      <th>Saxophone</th>\n",
       "      <td>44</td>\n",
       "      <td>256</td>\n",
       "    </tr>\n",
       "    <tr>\n",
       "      <th>Clarinet</th>\n",
       "      <td>170</td>\n",
       "      <td>130</td>\n",
       "    </tr>\n",
       "    <tr>\n",
       "      <th>Double_bass</th>\n",
       "      <td>208</td>\n",
       "      <td>92</td>\n",
       "    </tr>\n",
       "    <tr>\n",
       "      <th>Laughter</th>\n",
       "      <td>212</td>\n",
       "      <td>88</td>\n",
       "    </tr>\n",
       "    <tr>\n",
       "      <th>Fart</th>\n",
       "      <td>229</td>\n",
       "      <td>71</td>\n",
       "    </tr>\n",
       "    <tr>\n",
       "      <th>Fireworks</th>\n",
       "      <td>225</td>\n",
       "      <td>75</td>\n",
       "    </tr>\n",
       "    <tr>\n",
       "      <th>Hi-hat</th>\n",
       "      <td>211</td>\n",
       "      <td>89</td>\n",
       "    </tr>\n",
       "    <tr>\n",
       "      <th>Violin_or_fiddle</th>\n",
       "      <td>50</td>\n",
       "      <td>250</td>\n",
       "    </tr>\n",
       "    <tr>\n",
       "      <th>Acoustic_guitar</th>\n",
       "      <td>195</td>\n",
       "      <td>105</td>\n",
       "    </tr>\n",
       "  </tbody>\n",
       "</table>\n",
       "</div>"
      ],
      "text/plain": [
       "                      fname     \n",
       "manually_verified         0    1\n",
       "label                           \n",
       "Glockenspiel             24   70\n",
       "Scissors                 36   59\n",
       "Bus                      50   59\n",
       "Chime                    49   66\n",
       "Finger_snapping          40   77\n",
       "Computer_keyboard        59   60\n",
       "Telephone                 8  112\n",
       "Keys_jangling            73   66\n",
       "Microwave_oven           79   67\n",
       "Gunshot_or_gunfire        2  145\n",
       "Electric_piano           76   74\n",
       "Meow                     86   69\n",
       "Drawer_open_or_close     91   67\n",
       "Harmonica                77   88\n",
       "Cowbell                  95   96\n",
       "Burping_or_eructation   135   75\n",
       "Tambourine              129   92\n",
       "Bark                    172   67\n",
       "Cough                   174   69\n",
       "Writing                 203   67\n",
       "Knock                   189   90\n",
       "Gong                    207   85\n",
       "Oboe                    200   99\n",
       "Flute                   172  128\n",
       "Trumpet                 214   86\n",
       "Applause                239   61\n",
       "Tearing                 238   62\n",
       "Bass_drum               233   67\n",
       "Squeak                  231   69\n",
       "Snare_drum              230   70\n",
       "Shatter                 233   67\n",
       "Cello                   175  125\n",
       "Saxophone                44  256\n",
       "Clarinet                170  130\n",
       "Double_bass             208   92\n",
       "Laughter                212   88\n",
       "Fart                    229   71\n",
       "Fireworks               225   75\n",
       "Hi-hat                  211   89\n",
       "Violin_or_fiddle         50  250\n",
       "Acoustic_guitar         195  105"
      ]
     },
     "execution_count": 71,
     "metadata": {},
     "output_type": "execute_result"
    }
   ],
   "source": [
    "#Print out categories in table form\n",
    "labelCategories"
   ]
  },
  {
   "cell_type": "markdown",
   "metadata": {},
   "source": [
    "Ensure we can read an audio file properly"
   ]
  },
  {
   "cell_type": "code",
   "execution_count": 72,
   "metadata": {},
   "outputs": [
    {
     "name": "stdout",
     "output_type": "stream",
     "text": [
      "/Users/humza/Documents/Kaggle/DCASE2018/RawData/audio_train/002d256b.wav\n"
     ]
    },
    {
     "data": {
      "text/html": [
       "\n",
       "                <audio controls=\"controls\" >\n",
       "                    <source src=\"data:audio/x-wav;base64,UklGRryXAABXQVZFZm10IBAAAAABAAEARKwAAIhYAQACABAAZGF0YZiXAAAAAAAA/v///////v8AAAAA////////AQD///7/AAD/////AQD///7///8BAP//////////////////AAD//wAA/v8AAAAAAQAAAAAA//8AAAAAAQD+/////////wIA///+/////v8AAAAA/////wAAAQD/////AAABAAAA////////////////AAAAAAAA//8BAAEAAQAAAP//AgABAAQAAgAAAAAAAAABAAEA/////////v//////AAD+/wAAAQD//wAAAAD+////AAAAAP7/AAD//wEAAgACAAIAAwADAAIABAACAAMABAABAAQAAgACAAMABAAFAAMAAgABAAIAAQACAAAAAAD//wAA/////wAA//8AAP7///8AAAIA/////wAAAAAAAP//AAABAAIAAwACAAMAAwAFAAQAAwADAAUABQADAAIAAQD//wIAAQAAAP///v8AAAAA//8AAAEA///+//3////9//z//P/9//3//v8AAAIAAQABAAEAAwAAAP//AwAEAAMAAwADAAMABQAHAAQABQACAAAAAgABAAAA/v/7//3//f/5//n/+v/6//j/+f/1//f/9f/3//b/9v/4//j/+P/9//3//v8AAP7/AQD///7/AQABAAMAAwAEAAMAAAAFAAcABgACAAAA//8AAP3/+//4//b/+f/5//n/9f/1//X/+v/3//P/9P/1//b/9v/2//n/9v/4//v//f/9//3//P///////v/9//3//v///wAA/f/7//z//f/+//v/+//4//j/+P/7//j/9f/3//f/9//1//T/9v/3//n/+f/5//v/+v/9/wAAAAD+//3//P/6//3/+v/5//r//f/8//z/+v/4//n/+P/4//f/9//1//T/+P/4//j/9//7//r/+//5//j/+f/8//z/+//5//z/+f/+//z//v/+//7/+v8BAP//+//8//3/+//8//z/+//6//v//v/8//r/+v/5//j/9//1//b/+P/5//v//P/6//j//v////7//P/+//////8BAAAA/v8BAAAA/v///wAAAAD8/wAA/f8AAAAA+v/4//3/+v/6//z/+//6//f/+v/9//z///8BAAAAAQABAAIAAQAAAAEABwAIAAYAAgAEAAYABwAHAAUA/v8BAAEAAQAAAAAA///9//7/+//6//3//v/6//z//f/5//r//f8BAP///v///wEABQAFAAoACgAIAAoACwAKAAgACAAHAAQABQAGAAQA//8AAP7//v/7//j/+v/3//f/9P/2//b/+f/3//r/AAAAAAIAAQABAAgADgAMAAsACwARAA4ADAAMAA0ACgAKAAoACQAGAAEAAQACAAIA+v/6//n/+P/8//r/9P/4//f/+P/7//n/9f/4//j/+P/3//z//v/8//7//f8HAAMABQAHAAgABgAFAAYABQADAAIAAwABAPv//f/7//r/9//5//T/9P/0//X/9f/z//n/+P/0//f/9v/0//X/9//5//v//P8DAAQABAAEAAQAAgACAAMAAAABAAAA+f/5//P/+P/y/+//7P/q/+f/5v/n/+f/0v+w/5T/h/9+/37/ff+F/5T/sf/M//H/FwA+AFsAfwCgALsAzwDZAN0A1wC/AJ4AeABGABIA2/+i/27/P/8Z//j+7f7t/vb+Dv81/2P/nP/c/xkAWQCVAMsA8AAHAQ8BAwHmAMAAjABKAAsAzf+P/1v/M/8b/xH/GP8w/1T/ef+q/93/CgA8AGMAgwCNAJUAkACFAGMAOQAQAOP/rP98/1z/TP9J/1H/ZP+F/7H/2v8FAC0ATgBlAG4AbgBrAF0ARQArABQA9P/V/7z/rP+g/53/pf+x/8n/5f8DABoALAA7ADsAOgApABQAAgDr/9P/w/+8/7n/t//C/9X/4//1/wYAHQAuADoAQAA/ADoALgAeAAsA+P/h/83/wf+7/7n/xf/O/9z/7v/8/wwAHgAzAEAASQBSAFIATQBDADYAMAAiABgACgD5//P/6P/f/9r/2f/Z/9n/3P/j/+P/4f/r//j/DAAZACoAOwBLAFYAYABmAGQAWQBEADMAHQABAOz/0v/A/7j/uf/A/8r/zf/O/9f/3//t/wgAGQAmAC4ALgAmAB8AIwAtADgANwAmAB4AEAD8//H/7//4/wsAJwBIAGUAeABzAGcAZgBgAEcAOwA/AEIAOAAnABcADAD///j/6v/x/wQAJwBTAHUAjgCFAHQAawBlAGEAWwBcAF8AcgCLAKAAoQCLAGMAMwAPAPP/4v/0/xQALwBCAFsAcQBvAFEANgAXAPT/5f/2/wcAGQA0AD8AOQA6ADIAKQAcABgADwAAAAQAGgAeACEAJwAOAPj/9v/1/+v/1P/B/8P/3P/r//v/DAAPABsAKwA1ADIAMQAqACQAJQAmABQACgASABUADgAQABcAFgAUABoAHwAfABwADwAOACwAUwBrAG0AbAB0AG4AYwBVAEcALQALAPn/6f/R/8j/yv/I/8v/5v8CABMAGwAoACwAHwAIAA8AKAA4AD0APAA0ACYADADv/+v/7v/n/+7/BAAmAEsAYwBuAGAAQgAaAPL/z/+n/4T/a/9b/1L/Vv90/6r/6P8ZAD4AYACCAJEAmQCpAKwAnQB6AFMACgCw/1v/H/8G/x3/Tf+G/77/4P/3/wgAEgAeACgAHQD3/8j/n/96/1v/Tf9Y/3z/rv/Z//z/KgBTAFwAVgBHADgAHgAJAPX/1f+i/3H/U/9A/zb/Sv94/7f/8v8tAFcAdABpAD4ADwDZ/5//ev98/6H/4/8oAFkAdwByAF0AQQAVAOX/rv98/17/Rv9D/0z/U/9c/2X/cv97/4f/mP+v/8H/1v/q////DQAKAAMABQAXACwAOQA3ACkAGAAJAAAA/v8JABMAFQANAP//+P/8//7/7v/Q/63/lv+L/4n/kf+p/9L/+v8cAEAAWwBWADkAGwAWABIABADq/83/vP+p/5j/ff9m/0z/Nv8v/0T/aP+O/63/z//6/yIANQA9AE0AXwBlAFcAQQAnAAIA4f/H/63/ov+k/6v/pf+m/7//5P8GACUARwBXAE8AMwAJAOD/w/+1/7H/uP/N/93/6P/n/+X/8v8BABAAFwAdACQAKgAlACYANAA6ADsANAAmABwAEgAIAAAAAgAGAAkABwD+//T/5f/L/7b/rP+p/6v/uf/X//n/GQAtACkAHAAPAP7/5//L/7r/sv+o/6f/sP+2/73/xP/C/7f/qf+g/6L/sf/K/9//8v/0/+3/4f/S/8P/tP+w/7T/yf/S/9z/7P/3/wwAGAAYABwAHgAbABQACwAFAAIA/v///wsAEQAQABYAGQAkACkAKQAjACMAKAAqACUAHQAbACAAEAAFAAkACQAUACQAJwAvAD4AQQBBAEQATQBSAFYAVwBTAEcAOwA7AD4AOQBFAFYARwBAAEoATgBJAD0AOgA+ADYAMQAtACcAGAAdACkANQBBADwAQwBKAEoAPAAxACwALwAjAB8AJwAtADIAMgAmAB8AGgAPABQAGwAhACMAFwANAAwAGQAYAA0ADAAPABMAFQAaABkAGgAlADEAMAAnAB4AFQAMAAsADwAOAAcACQAUABcAEwAdACIAJwA5AEMARgBVAF8AZABqAGoAZwBoAGoAZgBnAF8AXgBXAEMAMAAqACkAKAAfABgAFwAYABkAFgAYACAAKQAhACIAKAAmAB0AFQAWAB4AIAAgAB4AKAArAC4AMgAvAC4ALgAsACwAKQAlACgALAArAC8APgBDAEUAQQBEAEcASQBGAEMAQwBCAEIAOwAvACQAGQANAP3/+f8CAAYACwALAAwAEAAUABQAHgAlAB0AEgAHAAQA/v/2/+7/8P/x//X/7v/q/+3/8f/4//n/AAAAAP///v8CAAEABAD+//f/AQD///X/+P/0//D/7P/i/9//6P/g/9L/4f/k/9X/zv/J/8T/xP+5/7v/wf+6/7f/wv+z/7X/x/+6/7b/xf+8/7//w/+q/6b/tP+u/63/qv+l/8H/2//g/+7/CAALAA8AHQARAOL/yv/g/wQA6f+Y/4//1f/2/+D/1v/n/+P/u/+V/7f/3/9m//3+i//z/5f/Kv8u/27/sP/u/xUAHAAUAPH/+P/z/wAAXgCFADkA5//Z/+//0//B/+z/MAA8ABQAFQAoAD0AVwCZAO4A6QB5ACgAbADJAKsAUwBKAHMAXAAeACYAdgCAADoAFABTAIkATwDf/6r/2/8TAOH/nP+X/7H/wv/I/8v/vv/R//P/BAAQAPL/xv/C/+z/FgDt/2z/PP+b/+b/x/+D/1b/UP+V/+T/6//E/4v/gP/Q/xQA1v9v/27/2v8rAAEAvP+7/+X/6v/x/wsADADr/9T/9P8dAC0AEwD5/xQANwAaAN3/wv/x/zYAPwAXACwAZABKAA4ADwBIAF8ANgALACkAIgDd/9L/+//6/7b/jv+e/6//ov+K/6H/wv/W/+3/2/+9/9X/EQAzACEA1v+n/8n/7P/Z/7j/lP+3/+z/+//v/+X/8v8WAEoAYwBuAGMAYACLAMMAxwCjAJAArgDMAMgAwgDCAK4ArQDUAPQA9gDiANAA2wDqAPUA4QCsAIkAigBqAEYAQQBFADMANgA3AB8ADgD+/+//5P/T/8X/1//F/43/jP+k/6H/k/9z/2L/dv9q/1D/d/+B/2X/XP9m/5b/tf+Q/33/uP/d/87/uv+//9T/BwAbABoAKAAnADUAYQB7AIAAiwCFAH8AkgCmALAAowCcAMsA9gDoAMcAvgDTANwAwACsAJYAegBsAF8ASQA2ACAADwAdACwAFQD8//b/7f/t//T/4P/O/8L/u/+7/7b/nf+b/5L/kv+1/8P/pv+q/9T/5//T/7//x//h/97/0f/r/yYAPAA5ADcAMgBDAFQAZwBtAHQAYABIAEwAZgB7AGkATQBzAJcAfgBoAF0AZQCHAG8AWQBsAEkAHQA2AD8AJAAVAPz/8v8LAP3/6v/2//L/0f/K/7P/qP+t/4L/Uv9T/3D/Zv9F/0L/VP9i/1T/Tv9z/4H/Z/9k/3X/df+G/4P/hP+n/63/r//M/9f/6/8UABQAHgAkACQAKwAgAB4ADQAFACcAOQAfABkAMAAvADkAYQBjAFsAWwBDAF0AdwBeAGAAawA/AB8AOwBAAAIA5f/r//b/6/+3/6b/7//9/8//5//5/+v/v/+V/7v/4f+n/4D/ff+H/43/df9n/3j/lf+U/4z/o/+e/3v/ov/G/7X/rv+r/7r/3//Y/8D/zf/Y/9T/zv/O/9X/2//e/+z/9//3/+f/3f/c/wsAEAAAACgAQAArAC0AIQAoAFQAQgAyAEMAKwAgAC8AGQA6AHwAgQBjAFwAaQBqAGIAQgAzAFYATAD0/+P/+v8gADIANQBVAB0Atf9e/1L/Y/8g/47+ff4t/jj+dP55/o3+mP6z/rP+dP4n/vX91v0T/gn+of2E/fr9Zv5n/pP+H/+O/8D/IwBcAHQAkgDSABcBMwFgAWYBnwE+AnECTgJEAjUCKwIsAvMBIwKSApsCtQKQAk4CVgL7ARsBdQCCAHsAEACn/0T/Xv+s/6b/nf+r/3v/Kv/o/v/+D/9B/23/Xf89/zD/Gf///hf/M/8L/+f+7f7x/rj+j/57/pT+z/61/pj+rP7K/vD+Bf8B//P+1P7v/j//jP/4/0gAfACaAIYAkADEAOgAJwFdAX0BtQH4AQ4C8gEsAiUC8wHcAcwBsgF0AVwBUQFeAWABNAE1AQkB3wAYAaMAawDZAFMAOgBEAM7/yv/U/zv/Bf8X/wv//f7y/mj+2f0T/iv+rv0D/u39oP0I/iT+BP4n/kz+Qf5L/pz+i/6f/iX/qv/k/xMAXwB3AA4BWwEjAT4BeAGPAX4BWAFjAX4BgwFpASABEwEaAQABIgE+ASIB2QC+AP4A7ADUACUBDQERAWsB4QCtADcBIwH9AEYB0QAnAHAAdgADADUARACR/5D/jv/0/g7/NP8B/wv/Df/V/p3+9/75/sL+BP8R/+/+5/7Z/iH/eP95/2P/Yv+5/8T/LP9O/5v/k/+n/5P/fP+T/4//ZP9e/6r/+v/w/9j//f8RAP3/EABBAHUAtQDKAOcAJwF7AXEBmQEOAuEBogGHAVIBbQGKAWQBOAEsAQ4B/ADTAKIAcgB4AD0Awf+j/0//3P7O/t/+zP6l/pD+p/68/tP+3/74/jH/Rv8y/xL/MP9A/zf/d/+W/4P/ef8h//n+TP9E/xj/Jv8u/x//H/84/27/sf+6/8T/FwAcAEQAawBVALAA8QAGATIBQQEzAUwBXwGCAXsBWAFUAUMBSwE6AQcB9ADDAJIAPwD9//X/uf+w/6T/Xv9l/3T/iv/C/3X/S/9o/xz/2/69/pz+kf5T/j3+Qv5G/lf+W/5x/mz+NP5L/m7+X/5o/kb+Y/6r/sH+wv7Y/gf/Iv8//4P/jP+x/+X/4P8JAEcAfgDHANgA4QBSAZYBfgGDAYsBvgHXAcwBuAG/AckBugHAAa8BqAHvAcQBkwFsARgBxACfAGYABwCi/03/EP/W/oP+Rv4W/h7+G/75/QX+3/2Q/bL9+f3g/b/90P3+/Rv+U/5//qb+GP99/5j/qP/J/9j/GQBCACwAJwBXAFMAMgCBAJIAgACGAHYAigCTAJ4AmwB8AKkAsACcAKkAyADuAPoA/ADYAN0A+gDfANAA5QDUAJsAlQCAAHAAdABeAEMAMgAMAPX/3f+0/6T/kf9x/2P/Qf8s/zP/Kv8S///+/P4a/yb/K/8y/0b/Rv89/1D/ev96/4v/oP+z/8r/0v/M/93/AgAKAP7/BwAGAPr/9P/t//H/HQBSAFgASABiAH8AfQCAAJ8AugDSAMsAtQDJAN8A+gAOASgBKwEvARgB+gD9APkA2wDZALkAggB+AGcAQwApABsASQBRABAAzf8eANz/uv8yAOb/p/+p/4H/i//R/8j/hf+F/5X/yv/e/6P/cf8k/3r/pP9E//b+5v7k/hL/Jf9Z/0P/Wf95/1n/XP+l/83/lP8WADMAGAAQAN3/UQDLALIApwADAT4B1ADQAP4AEwEzAWABCgHnAD4BIgHKADABgwFuAS8BBQGcAHAAjACuAJEAngCAACEA8P/X//L/GgDj/+7/1/+b/yn/4/7b/ln/rv9i/w3/1/7M/vH+8P4j/2D/Uv/r/sH+xf7A/vr+Uv98/1n/af86/+L+XP+5/8X/GQADAL7/6v8HAEUAgQC3AAYBCgG/AOcACgERAS8BNAEqARoBEgHjAJYAigDfAAwB0gCVAGsAUgBHAIQAhABIAEkAVgAeAMn/xv/W/8D/6/8dAL3/mP+Y/4X/r/+u/8f/pf93/0j/Df8M/1j/Qf8n/0P/Kv8a/wv//v4l/4X/nP9Y/zT/QP82/2D/oP/K//H/9//z/97/MABlAHoAvgCgAFEAYgBZAEkATACeALIAZQB5AGkAQgBxAI0AbgCQAIgAKwAgACAAMwBtAFcAOgAqACQADgAJAOb/qv+Z/2P/If///ur+//4X/wP/DP/9/g//CP8J/yD/Hv9g/2X/Gv9F/3j/gf/H//T/BgAhADAAVQBYAHAAcgBJAGUAVAAUABcAAwDn/+v/DAAAAOr/zf+Z/4z/o/+1/4D/bP9j/2b/YP90/7v/u//R/xQAFQAjAEUAWwCDAKwAmwB6AIAAhgCQAMQAyACOAI4ApQBpAFYAXQA7ADMAJAD0/9f/zv+f/4n/ov+J/4L/b/9N/zv/Wv9r/1b/MP8s/0T/U/9t/4b/f/98/4H/jv+M/4r/mP+Q/5X/lP+Q/5X/kf+h/83/6f/5/x4ALQAvAFwAgQB7AH4ApwDEALEAmACtALMA3gAQAf4A9ADpANkA9gArASIBAQHwAM0AkwB0AGYAYQBzAG0AXABCAB0AAwDw/8v/u//A/63/ef9V/0T/Xf+B/5H/oP+O/3//kP+n/5n/jv+f/53/ev9t/4f/k/+8/9z/5f/v//D/7f/0//v/DwAlADEAHQAiAD0AaAB1AI4AvADMAKoAmwCfALoA0QC+AKUAmgCBAF0AYQBzAIUAggBdAEMANAAiACoANQApAA8A9f/b/9n/8f/+/wcADwD5/+b/8v/s/+3/9v/q/9j/uP+q/77/1v/B/6P/qP+0/8D/yf/H/7//yf/K/7//xv/v/wcAEgASAAEALQBgAFkAVwBdAHEAgABmAEQAUgB+AJYAkgBvAGAAcwCGAIIAbwBNADcANwAvAA4A+//u//P/8//S/8b/yf/q//L/z//T/+X/5//e/7//qP/M/+L/1f/M/+D/AgAFAPT/+P/z/w0AGgAAAM7/wv/n/+D/y//V/9T/yv+4/7//xf/Q/9f/xv+u/7n/z//a/9//4v/4/x0ANgA7ADwAMAA2AEgAagByAFgAVABQAEwAPQBCAE4AQwA9AEcANQAkACUAMQBDAFAARwAzAA8ADQAtAB8ADwAPABIAFgALAPb//v/p/+L/2v/N/8T/qP+E/3v/jv+T/43/ev9v/3H/Uv81/zj/Qv9Z/2X/Zf9f/3H/gv+l/8v/2P/V/8P/sv+u/6v/qP+1/7r/u//J/8b/v//U//H/AQD7//T/+f/2/+///P8NAAkAGAA3AEsAWABoAGkAcgCGAKEAqwCiAKUAogCjAJgAgwByAGcAVwBAABsAFQAOAOv/zv+v/4f/dP9n/0T/Kv8Y/w3/Cv8K/xL/Gv8g/zv/Tv9H/0P/Vv9t/4T/h/+M/6f/vv/U/+r/AgAWACcAPQBIAEEARgBQAE8AXABmAGcAagBgAG0AkACXAJ4AmACEAIkAkQCKAIsAggCIAJAAfwByAIIAgwB1AH4AcABOAEcAPgAhAAkA/P/0/+D/zv/J/8T/vv+2/5j/hv9+/3z/b/9h/2f/ZP9i/3H/av9t/33/mf+y/6b/mv+j/6//uP/Y/93/0P/v/wEADgAaACgASQBVAFkAYABPAEkAYABtAF8AVQBQAFYAYABkAGMAaABvAIEAkgCKAJgAqQCoAKAApgC+ALoAqQCrALEAuADAALUApgCqAKAAiwBxAFYAQwA2ACYAFQADAAgABwDo/8r/yv/F/7v/sf+g/5n/i/+N/3v/Yv9q/4//o/+X/4//n/+n/7P/vv++/77/uv+t/6b/q//I//j/AwD+/xIAJQA2AE4AWwBfAGoAcwB0AGQAaQCPAKMAsAC2AKkApQCsAKEAmACIAG4AaQBtAF0ASwBGAFEAWgBZAFEATgBFAE8AUwBXAFsAUwBIAEEAOwAnACgALAAoACcAEQD8//3/8P/d/9L/zv+//57/iP+N/4v/g/9//3b/f/+R/4//hv+E/4b/if+Q/5T/nv+5/9P/3v/p//z/FAAvAEgAUwBHAEYATQBXAG4AgQB6AGwAbgCGAKAArAC1ALoAswCtAKEAnQCYAI8AhAB5AH0AeABnAGAAUQBAACYACADl/9L/xv+7/6f/kf+Z/6T/lv+Z/5X/jP+c/5z/j/+R/5T/kP+I/4j/kP+n/7f/wP/H/9n/7f/7/wgAAQDx//L/8//c/9T/2v/i/97/z//H/9j/5//v//P/6//s/wEABwD//+v/6P8CAAwAAwAGAA0AIgAmACAAIQAqAC0AHAADAPb/9//8//P/9P/y/+T/z//L/9D/1v/Y/8z/vf+4/7H/s/+6/7T/wf/U/8v/vf+x/7H/xf/P/8z/xP+y/6P/pf+u/6j/qf+y/8P/x//J/8P/yP/j//L/5//T/8f/0//W/9H/z//j//n//f8CAAYACgAKAPr//v8TABQABAD3/+7//f8WABsAFAAXACEALgAgABoAFgAZACgAKQAmACUAMAA/AE8AVQBSAEgARABAAEgAQgAiAAsA+//z/+j/3//Z/9D/y/+//63/pP+y/7b/qP+k/6b/kv+M/4v/kP+g/63/r/+u/7L/v//G/87/1P/X/9z/5v/o/+L/5P/z/wIACwARABUAHwAbAA8AFgAfACcAMQAtAC0AOgBGAFQAWwBlAHAAdABtAGEAVABPAEsAPgAxACgAIAAVAA0A///7//f/7//k/+v/4f/M/7j/sf+0/7T/sf+2/8D/wv/C/8j/1v/l/+X/2v/Y/93/4P/X/9r/7v/9//z/BwAUACEAKQAnACUALQAvADAALwAnABwAHwAkACgALwA1ADoAOwAyADIAOQA+ADsANQAsAC4ALgAxAC8ALQA2AEAAPAAuACsALQAxACsAHgAWAA8ADgAKAAEADAAZAB0AFQALAAcAAQD8//r/+P/z/97/zv/I/8z/2f/j/9v/2P/Y/9f/2v/c/9//4//h/+L/1P/O/93/6//7/wcAEQAYABoAFwAfAC8APgBEAEMAQAA7AEQATgBZAFkAUwBXAFsATwA8ADEALwAuAC8AKgAaAA8AEgAPAAwAFAAUABAABQD7//H/6//u//T/9P/t/+j/8P/x//D/+f/5//X/7//m/9f/x//A/8P/v/+9/8D/vP+8/8f/xf/E/9T/3v/e/9v/2f/S/8b/zv/b/+P/6v/o/+f/+P8CAAYADQAQABUAHQAgABkACwAMABYAJQAoACYAKAAuADAAMQA1AD4APAA2AC8ALAAwADMALQAqACkAIwAeABoAEgAHAPz/9P/h/8//xv+5/63/o/+p/6z/o/+f/6P/qP+l/6r/rf+s/6j/rP+t/7L/u//M/8//1P/U/9n/4P/o/+f/5f/s//L/6P/f/+T/8v/8/wMABwADAAcACgAIAAwAFQAVAA0ACwAMAAoAAwADAA4AGwAlACYAIAAWAA0ABwAIAAUAAQD4/+X/0P/E/8D/x//P/9X/zf/G/7r/rP+l/6//sv+2/67/n/+f/6L/rf+8/8T/yP/J/9D/0v/P/9P/1f/g/+r/8P/x//P/9v8CABkAJgAwACwAKQAoAC0ALQA1AD0ANgA2AEAASQBGAD4APQBAAEUAQQAwACQAJAAoACIAFwAQAAYAAQALABMAEAAKAAAA/v/5//T/7//n/+b/5//b/9P/0v/T/9f/2v/Z/9P/z//V/83/xP/G/8z/z//S/9T/2P/l/+z/7//4/wUACwAGAP3/+P/9/wEA/f8CAAEAAQABAAAA/f8GABIAFgANAAYACQAGAAkABwAPABkAHwAhAB0AIwArAC8AKwAmABoAEgAUAA0AAwAGAAwADwATAAoAAgADAAsADwABAPP/8P/z//P/8P/h/+b/9////////P8BAAoACAD9//P/6v/l/9//0v/N/9P/1//O/8T/zv/Y/97/3P/b/9v/1//b/9n/3f/l/+z/9v8AAA0ADQATABwAJwA2ADcAKAAlACYAMAAzAC4AKAAtAC8ALQAlACIAIwAiABQACwAHAAYA/f/9//7//P8DAAwADQALAAoACAAPABQAEAANABIACgAGAAAA+f/6//7/+f/1//X/9//4/+z/6v/x/+b/2v/Y/9D/0f/Z/9v/3f/c/+D/7f/x//D/7f/q//D/7P/l/+T/6P/v//j//v/7//X/9f/+////+P/y//b/+P/y/+v/7f/4/wIACgAGAAEACwANAAwACQAOABIAEwAPAAYA/v8AAAoADgAMAAwAAgD9//P/8P/1//P/7f/i/9P/zv/Q/9H/yv/K/9X/4P/f/9T/zf/O/9D/0//P/8n/zP/T/9f/2//f/97/5v/s/+z/5f/e/9X/0P/T/9P/1v/Y/9b/1v/T/9j/3v/p//T/9P/0//T/9f/+/wEACAAQABAAEgATABYAHwAlACQAIAAbABMAEAAKAAgACwAKAAcAAgAAAAMAAAD7//3//v/5//T/8f/n/+b/5//l/+3/9f/x//H/8//y//D/8P/r/+H/2v/W/9P/xP+//8T/zf/O/9D/yf/F/87/1//Z/9H/zf/J/8b/yP/K/9H/2P/g/+r/7v/u//H/+/8DAAUA///7//z/AAADAAIABwAPABoAHQAaABoAGwAcACAAGQAZABAACQAMAAsABQAHAAwAEAAJAAkACwAGAAEAAgD8//n/9f/v/+z/6f/t//X/9//2//X/7//q/+T/3//c/+D/3v/U/8v/wf/L/9T/0//R/9T/0//G/7//w//F/8f/xv+//73/xf/S/9j/3f/s//L/+f/5//P/9v8EAAoAEQALAAsADAATAB4AJQAqADAAOAA3ADEALQAsAC0AMAAvACkAJwAlACQAJAAdABoAFgAOAAIA8v/l/+H/3f/b/9b/zv/K/9D/zf/M/9P/2f/S/87/xP/D/8T/xv/F/8T/zf/T/9b/1//f/+n/9v/7//z/AAD+//X/9P/2//3/AAAHAAYABgALAA0AEAAVABUAFQASAAkA+//9/wUABgAHAAkABQAFAAkAEgAQAAwAAwAEAAMA/v/9//j//P8BAAUABwADAAYACAAIAAMA//8AAP7/9v/y/+3/7f/y/+7/8f/x//P/9P/0//L/7//z//L/6v/t/+f/3v/m/+//8//2//j/AAD7/wEAAgD7//j//v/+//v/8v/z//r/+//9////AQD8//7/AwAFAAkACQAHAAIAAwAIAA4AEAAUABUAFgAXABUAGQAbABsAGgAXAAsAAwD8//z//v8AAP3//P/3//f/+P/1//X/9f/6//j/8f/t//H/9P/8//3/AgAAAPr/+v/6//b/9//2//D/7P/q/+v/6//o/+z/8P/0/+//6P/l/+D/3v/e/93/3f/h/+X/5v/o/+7/9f/8/wgABwAAAPv/+P/8//7/+P/0//f/9P/w//P/9P/y//j////+//n/9f/0//n/AgABAP7/BAAIAA0AEQAMABAAFAAXABUAEAALAAQAAQACAP3/AQAIAAoAAAD4//z/AQAEAAEA9f/r/+X/4v/f/+L/5v/p/+z/8f/2//r/9f/7//v/+v8AAP7/9v/z//L/+v8BAAYACwAQAAwABwAEAAIAAwD+//L/8P/v/+v/5//o/+3/8f/2//P/8//x/+z/7//z/+//7//w//H/8v/1//n//v8FAA8AEAALAAcABQADAAEA///5//D/8f/1//X/9//5//j/+P/1//H/7//y//H/8f/u//D/8v/5/wUADgAOABUAIAAeABwAHAAeABoAFwAUABEADwASABAAEQAPAA0ACAAEAAAA/P/3/+7/4v/d/9v/3P/Y/9b/1P/d/+H/3//d/97/4f/h/9v/2v/a/9j/2v/i/+T/5f/q//D/8f/z//T/+f/3//f/+v/6//v/AQABAAcADAAPAA4AFAAZABsAEQALAAsACQAIAAcABAD///3/+f/7//7////8//v/9f/u/+v/6f/m/+f/6f/o/+b/7P/x//n/BgAKAAkABgACAP7//P/8//n/+P/2//r///8AAAAAAgAIAAsABgD6//P/9P/w/+3/7//u/+//8v/1//f/+P/4//j//f/7//f/8P/v/+//8v/3//f/9f/5//7/AgD//wAAAQAGAAEAAAD8//7/+//9//3//P/3//r/+//7//z/AgAAAP3/AQD//wEAAgAJAAsAEAAWABkAGAAhACoAMQAtACgAIAAaABkAGAAcABIADgAKAAwADAANAAUABQAEAAAA8//r/+b/4v/l/+r/6P/l/+f/6//v//T/9P/x/+7/8f/v/+3/6//q/+3/7v/z//T/9f/0//j/+f/3//7/AwADAP3/AAAFAAsAFQAaACAAHwAjACgALwAzADMAMQAxADcAMAAyADQAMgAwADAALAApACUAIwAaABEACwAEAP7/+P/z/+3/7P/u/+v/6v/q/+v/6f/m/+T/6v/r/+n/5f/p/+n/7P/u//X/+/8CAAEAAAADAAQABQAHAAUAAQD//wIAAQD//wcADQAOAA4AEAAPAA8ADwASAAwADAAKAAoADQAOABUAHQAiACwALQApACkAKwAnACMAHwAfAB4AHQAdABkAGAAcAB0AHAAZABMAEgAQAAsA/v/3//T/9//4//n/9f/2//b/+v/8//z/+//5//X/9v/1//f/9P/0//T/+P/6//v/9f/0//D/8//v/+z/6//q/+X/4f/g/+L/5//w//X/8//4//n/+//8/wMAAgABAAUABwAJAA0AEQAXABkAGQAfACAAHgAeAB0AGQAZABkAEQAVABQAFAAQABAADgANAAwACAAFAAMAAwAHAP///v/7//7/AwAFAAcABwAEAAMAAQD+//v/8//v/+v/5v/g/+D/2//b/9j/2f/V/9L/0f/P/83/0P/R/87/z//R/9X/2v/e/+T/7P/1//r//P/6//7/AQAIAAoACwAKAA8AFAAXABgAHwAmACYAHQAVABMAEAAQAA4ACwAHAAcABwAFAAgACQAIAAcAAQD///f/8P/q/+n/5//k/9z/1P/U/9T/0//W/9b/0//Q/8r/xf/F/8j/yP/M/8z/zv/Q/9v/5v/t//T/9v/4//X/+v/7//z/AAD//////v8AAAMABwAMAAoADgAPAAsACgAHAAgACwALAAwACwAFAAsACgAOABYAFgATABIADAAJAAoADAALAAYAAwABAP3/AgAAAPv//v/7//P/8//r/+X/4v/h/+D/5f/l/+j/6//t//T/9v/5//n/+P/2//P/8//z//X/+P/8/wUABQAAAAEAAgAIAAkABQAAAPr/+//0//X/9//4//j/+v/5//n/9v/8//3/AgABAP7/9//1//j///8BAAYABQAHAAsAEAARABMAFQAZABMAEgARAA0AFAAVABkAGAAbAB0AHgAdACAAGgAbABgAGAAUABIAEwAVABcAHAAeAB4AIgAeABgAFgAVAA4ACwAFAAAA+f/y//H/9f/0//D/7f/s/+n/6f/o/+P/4//f/+D/4f/h/+f/7P/y//f/+////wQABQAIAAYACgAJAA0ADwARABUAHAAhACYALAAsAC4ANAA0ADEAKwArAC4ALwArACkAKQAsAC4ALgAtAC0AKwAoACIAHgAfABoAFgASABMAEwAVAA8AEAAMAAoACgAHAAQA///7//j/+v/5//b/+P/2//j/+f/5//7/+//+/wAA/v/8//n/+v8AAAMABwAKAA0AEgAZABsAGwAeABkAFQAUAA0AEgAPAAwADQAPABEAFQAUABAAEwAVABIADwAQAAoADAAOAA8ADwAQABQAFAAWABYAEgASABIADwANAAgAAgABAAMAAwACAP//+//5//n/9//0//T/8P/r/+v/5f/l/+r/7v/v/+//8P/0//b/+f/7//7/+/////3//v/8//z///8CAAcABgAGAAUABQAGAAMAAwABAAAA//8AAP3/AAD//wcABQAGAAQAAgD9//7////8//f/8//x//T/8f/y//b/9P/3//f/8//0//X/8//w/+//6P/o/+j/6P/m/+z/6//v/+3/7//w/+//7f/v/+3/6f/k/+X/4v/i/+b/5P/m/+v/6v/s/+r/7P/q/+z/7P/p/+n/5//n/+r/8f/1//v/+//8//7/AAD+//3////9////AgAEAAcACgAHAA0AEAARAA8ADAAJAAQA//8AAPv/+P/6//f/9P/x/+//8P/v/+7/6f/n/97/2f/Y/9j/3f/b/9f/2//b/93/4f/i/+T/6v/m/+X/4//n/+3/7v/w//H/9//8//7//v/9/wEABAAEAAUABgAKAAwADQAQABMAFAAYAB0AHgAdABoAEwASABEADgAJAAoACAAGAAMAAQACAAIAAAABAAAA9v/z//D/7v/v//H/6v/m/+P/6P/p/+v/7//u/+z/6//p/+n/5v/l/+b/4v/i/9//4//o/+v/7v/v/+7/8P/x//H/8v/0//T/8//1//v//v8CAAUADgAPABIAEQAXABkAGQAWABkAGAAYAB0AHwAlACIAIQAhACIAIAAkABgAFAAQABAADQAGAAMAAQD+//z/+//7//b/8v/v/+7/6f/p/+T/4//j/+P/4v/j/+b/5v/p/+r/6v/r/+v/6//n/+j/6P/m/+3/7//w//H/8v/z//T/+f/4//b/9//3//n/+//6//z/AAADAAMACAALAAwADAANABEAEQAPABAAEwAPAA0ADwAOABAAEgAOAA8ADwAKAAgABAD///3//f/9//j/9P/y//b//f/+//j//P/5//j/9f/0/+z/7f/u/+3/8P/w/+3/7v/v//T/9P/z//X/7f/o/+j/5f/o/+P/6P/m/+j/6P/q/+z/7//t/+3/7f/u/+z/6f/s/+7/8P/x//j/9v/2//n/+v/8////AwD///r/+P/4//n/+f/z//P/9f/w//L/8f/x//H/7//w/+v/6v/s/+v/7f/o/+n/7P/w/+//8P/u/+3/7v/q/+n/5//n/+X/3v/b/93/2//f/97/3P/d/9v/3v/b/9j/1//W/9T/1f/U/9X/3f/h/+T/6P/q/+v/7f/v/+7/7//u/+r/6//z//T/9f/z//X/+f/4//T/8v/u/+r/6v/p/+P/2f/b/+L/4f/i/+b/5f/k/+H/4P/d/+L/4P/f/9z/3f/Z/9n/3f/k/+b/4P/j/+T/3v/h/+T/4P/b/9//5P/i/+H/4v/q//H/8P/x//L/8v/v/+7/7v/z//L/8P/u//P/8//y//T/9//4//H/9v/4//X/8P/z//D/7//w/+7/7//y//H/8v/u//T/+P/3/+//7//v//P/8P/z//P/8v/4//P/8f/2//r/+v/3//T/9P/z/+v/6f/u/+7/7v/v//D/8//3//j//v/8//n//P/0//X/+v///wEA/v8BAAUABwAIAA8ADwAMAA0ACgAGAAMAAQD//wEA///+/wAAAAD9/////v////z/9//1//b/8//w//D/7v/x//T/8//3//P/8v/2//j/9//4//f/+f/6//z/+f/7//3/AgADAAIAAQD//wAABgADAAQABAAAAP7/AgAHAAgABgAJAAgADgANAAYABgAKAAgABwAGAAIAAgABAAYABgAFAAgABgAEAAQAAAD9//v/AAAAAP3/+v/6//z/AAABAAMAAQABAAIA/v/8//n/+P/3//v//P/7//7//v8AAAMABAAFAAQABQAEAAMAAgD//wEA//8FAAUABQAFAAcABwAGAAQAAQAAAP7/AQABAP7//v////3//v8DAAMA//8DAAEA///6//f/9//1//L/8f/v/+P/1P/K/8T/wP/B/8T/y//T/+T/9P8DABYALAA8AEkAVwBgAGgAbgBuAGgAUwA+ACkACgDr/9T/v/+x/6j/qv+x/7n/zf/l//b/BgAZACcAKQArACQAGwAQAAQA8v/j/9T/xv+6/7j/tP+7/8f/1f/g/+7//f8LABUAHgAjACAAFgAFAPT/4P/N/7v/rP+Z/4z/h/+J/5L/pP+8/9T/7f8JAB4AMwBAAE0ATgBKAEgAQQA4ACoAIAAVAA0ABwACAP3/9P/z/+//6P/m/+D/3v/Y/9X/0v/N/8n/x//H/8X/yf/Q/9b/3P/m//T//v8KABUAHQAjACQAJAAcABsAEQAFAAIA9f/o/97/2v/V/9P/1P/U/9P/2f/f/+H/5P/p/+7/7f/q/+n/6f/f/+D/5//j/+L/5//t/+r/7P/0//X/9v/5//z/+P/8//3/AgD8//v/BQAJAP3/+//9//v///8CAP///P8DAAYAAwAFAA4AEAAQABQAFgAWABQADgAKAAAA/v/9//j/9P/3/+7/8//8//7//P/9/wAA//8IAAgAAQAGAAkADAASABAACgAKAAkABAABAPz/8//o/+L/3P/W/9j/0f/R/9n/2v/c/+H/6//s/+7/+P/3//n//f/8/wQACgAJABEAGQAZAB4AIAAfACMAJAAjAB8AGQAQAA8ADAAJAAgABgD///3//v/9/wMABAADAAIABwAHAAoADQAMAAwAFwAYABkAEAASABYAGAASAAkABwAGAAMAAwADAP7//f8CAAkACQAHAAcABQAHAAYAAQD7/////f/6//j/9//3//r//P/7//r/8//z//T/8v/v/+//8f/7//r/+v8EAA0ADgAUABsAGgAYABoAGwAXABcAGwAYABoAGQAVABUAEQAUABUADQALAAgABgAHAAQA///+/wUAAgD7////AwACAP//AAD+//7//f/8//j/8v/w/+7/7//x//D/7f/s//L/+P/x/+//9v/5//T/8v/1//n/+P/9/wIA//8AAAYACwAPAA0ACwAEAAEAAgD9//T/9//x//D/8P/u/+7/7v/u/+z/6v/q/+v/6v/v//P//P8AAAAABQAMAAsADAAKAAwACAAEAAEA//8AAP3//v8BAP7/+f/3//T/9v/u/+b/4P/c/9f/0f/Q/8//zv/O/9T/2v/Y/97/4v/s//H/9P/6//n/AQAHAAoACwAPAA8AFAAWABQACwAGAAIAAAD6//D/5f/l/+P/4//f/+H/4f/l/+j/8P/u//L/9//3//v/+f/z/+z/7f/q/+b/5f/l/+X/5f/g/+H/4//m/+X/5P/i/+X/6f/k/+j/8P/2//L/7//u/+//7f/p/+v/6P/i/9z/2//h/+H/5P/p/+n/7v/w//H/8v/2//r//P/8//7//f/9/wUACwASAAwACQAMABQAGQASAA4ADgANAA4ACQAKAAcAAQD9//z/+P/2/+//7//u/+z/5//g/+H/4//h/93/3f/i/+D/2//e/+j/5f/n/+b/6P/r/+r/7P/q//D/8P/y//T/9P/3//j/+P/7//7/AwAAAP//BQAFAAQACAAKAA0ADAAKAAkADgALAAgAAwAGAAcABgAFAAYADQASABEAEwAWABMACQAHAAYAAQD+//3/+v/5//X//P/8/wEABgAGAAwACwALAAgACAAKAAgABAAAAPv/+//3//T/8//z//D/7//x/+7/6f/o/+7/7f/t//H/8f/z//T/9//7//n//f////v//v8BAAQABAAFAAoADQAQABMAGgAdABwAHQAgAB4AIAAaABQAEQAQAAoAAwACAP3/+//4//b/+P/2//n/+P/8//3/AgAFAAQADAAPABYAFgATABgAFwASABMAEAALAA4ACAAIAAUABgADAAIACQALAAcAAAAEAAUA///+//v/9P/w/+7/8f/t/+r/7f/v//L/9P/3//X/9//2//j/+//7//j/+v/9//7/AwACAAAAAAAAAP3/+//5//n/+v/9//z//f/9/wIABwANAA4ADQAPAA4ADQALAAwABwAFAAQABQADAP//AQABAAAAAQD9//z/+f/6//f/+f/0//T/9P/z/+7/7f/r//D/7P/w//D/8f/v/+3/8f/y//T/7//u/+//7f/q//D/8//y//L/7//v//L/8P/x//T/+f/6//z//v8AAAUACQALAA0ADQAKAAoABQAGAAMABAD///3//v8AAP7/AAABAP///v/8//r/+f/6//X/9f/2//b/8//x//H/9f/1//T/8v/x//D/7v/v/+7/7//v//L/8//3//j/+////////P/7//j/+v/0//T/7v/q/+f/6P/p/+7/7//0//X/+f/6/wIAAAABAAQABgAGAAIAAwABAAAAAQD///r/9v/0//T/8f/v//D/7P/r/+//7//0//j//v8AAAMAAwACAAYABQAEAAEA//8AAPz/AQAEAAcABwAJAAwACwAKAAsACwAIAAcABwAFAAEA//8DAAQABQACAAMA/v/+//v//f/9//z/+v/8//v/AAD8//7/AQAEAAMAAAD9//j/+P/5//j/+P/5//z//P/9////AQAEAAsACwALAA0ACwAKAAwADQALAAkACwAPAA8AEAAQABEAEwARABEACwAMAAcAAgACAAQAAQADAAYABwAKAAwADAANABEADgAMAAwADAANAAsACgALAAoABwAKAAwACQAJAAkABAAEAAQABwAGAAYABQAKAAkABQALAAkACwAMAAwADQAGAAYABgAJAAcACgAKAAsADgAMAAoADQANAAsABwAHAAkABwAGAAcABwAIAAsADQARAA8AEAASABUAFgAYABEAEQANAAkABQAGAAEAAAD///3////+/wIABQAEAAcACgALAAoACQAIAAkACgAJAAcABQAEAAMAAAD///r/+v/5//z//P/6//v/AQAFAAkACwAMAAwADwAPAA4ACgAIAAYABQACAAEAAwAGAAYACAAIAAkACAAJAAsACAAGAAIAAAADAAIAAwABAAIAAAD//////P////r/+f/5//r//f/+//v//f8AAAMABAAGAAcABAAEAAIA/v/7//z/+//4//P/9f/4//j/+P/8//r/+f/5//v//P/4//z//f/8//7/AAABAAAAAgACAAMA///9//j/+f/2//b/9f/2//r//P8AAAIAAgACAAQABQAGAAEA+//5//v/+f/4//X/9//7//j/+P/6//7//P/8//f/9//2//n//P/5//j/+P/6//j/+f/5//n/9//x//P/7//0//T/9//3//j/AAAGAAUABwAIAAcABgAKAAcABgAFAAAAAgACAAMABgAFAAkACAAKAAcABQAGAAIAAAD9//7//f/+/wEA//8CAAIAAQABAAAAAgAFAAIABQAHAAgAEAAVABgAFgAVABYAGAAVABIADAAIAAMA/////wAAAQACAPz///8AAP//AAADAAMAAAD7/wAAAgAFAAYABwAGAAcABgAEAAUACQAGAAYACAAIAAcACwAOABEAEQAPABIAEwAMAAwAEAANAA0ADAALAAkACwANAAoACgAHAAgABwAHAAcABQAJAA0ADwARABEAFQAVABIADgAIAAYAAwADAAEAAAAAAAIAAQAFAAkACgAMAAoABwALAAwACwAKAA0ADwAOAA4ADAALAAoABQAAAP//AwD+//z//v8DAAcACgAMAA0ADAAPAAkACwAHAAcAAwAGAAYABgAMABEADgATABIAEgATABIAEgAOAAsACQACAP3//f/8//r/9f/v/+z/6v/q/+z/7//v//L/9f/7//7/AQAEAAQAAAD7//D/8P8DACMAMwAiAA8AEAAfACQAIQAiACoAKAAsADAAOABLAF4AYgBSAEUASwBeAGwAZABTAE4ATgBPAFYAWABVAFIATQBHAD8ANAAvAC4ALAAiABUACAABAP3/8f/l/97/0f/C/7L/p/+o/63/p/+Z/4v/jv+W/5v/m/+i/6n/rP+u/7D/sv+2/7f/u/+//8b/yf/N/9f/6f/5//7/AAAHAA8AGQAiACUAKgAzADcAOQA5ADsANgAoABwAFQANAP//9v/n/+X/2v/R/8f/wv+3/6j/mv+V/5D/i/+M/5P/mf+e/5//oP+j/6v/sf+4/73/xP/K/9X/4P/s//P/9////wkADwAPAA8AEAAUABIAEQAXAB8AKAAsAC8ANgA+AEUATQBOAFMAWQBhAGcAbgBxAHgAgQCCAIEAgwB+AHwAeQB4AHUAcgBuAG0AawBkAF0AVwBKAEAANQAmABQACQACAPj/7v/Z/8v/u/+z/6T/l/+M/4j/gv9//33/fP9//4n/k/+Z/5r/nP+j/7L/uP/B/8f/0v/c/+f/6//z//3/BwANABMAGgAgACQALgA2ADkAMwA2ADQAMQAtACkAJwAjACEAHQAeACEAIgAjABgAFwAYABsAHgAgAB0AGwAYABgAHAAdABYAEwAWAB0AGAASAAsAAwAEAAkAAQD4//X/8f/o/+T/3f/R/93/3//T/9j/yv/G/8f/4v/a/8z/3P/r/+v/+f8GAAMACgAPAAsADgAPABUAIAAdABwAJwAxADIANQA8AEAAQwBDAEAAQABAAEQASwBSAFUAUwBMAE4ATgBIAD8AOwA4AC0AIAAZABIABgACAAIAAgAAAPj/7P/k/+7/5f/U/87/0//X/9X/yf++/73/xf/P/8v/xf/K/87/y//H/8f/zf/T/9L/1P/Y/93/6P/z//n/BgAUACcANQA3ADwASABRAFIASQBJAEsAUwBUAFMAVQBXAFAAVABUAEsAQgA9ADMALwAqACIAIQAcAB4AHgAaABsAGwAaABEADgAIAP7/8//1//X/9P/x/+n/6f/r/+H/2v/X/9j/zv/E/8D/xf/H/8X/x//P/9b/4P/q/+z/8P/8/wQAAAD+/wUAEAAWABEAFQAeACEAJQAtACwAKAAiACAAJAAlAB0AFQAVAB8AIwAhABsAIAAnACkAIQAgABsAGAAQAA4ADAAGAAYABQAEAP3/+f/5//j/+//w//L/8//4//T/8v/1//f/+P/6/wEABQAGAAgADAAIAAYACAAAAP3/AAAIAP3/9P/x//P/7f/n/+b/6//r/+H/3P/h/97/2f/X/9r/3v/i/+L/5v/q/+z/6f/u//D/8v/t/+v/6//w/+//7v/0//T/9v/1//T/+/8GAAsADAAQABoAGQAXAB8AIAAjACYAJAAjAB0AFwAVABcAFwAYABQADQAMAAcAAgD9/wAA/v/4//D/7//t/+n/5//q/+//7P/l/+P/6f/p/+b/4//j/+H/3//X/9j/1P/Y/9j/1v/W/9b/1//Y/9r/3v/h/+T/8f/6////AAABAAQACQANABEAEwAYABwAIQAkACYAIwApADEALQAlAB0AHgAgABoAFQAPAA8AEAAQAA0ABgAEAAAAAQD/////+//4//b/8f/t/+7/7//s/+b/5P/e/93/1v/V/9n/1v/V/9T/zv/N/8z/0v/R/87/zv/Q/8//z//R/9H/0v/a/9//6P/r//P/8v/4/wAABAAJAA8AFwAeABkAGgAeACIAKQAsADAALwAtAC4ALQAxADYANwA6AD0APgA+ADsAPwA+AD8APAAyACwAJQAdABMAEAAIAP//9//v/+b/4P/a/9P/y//E/8L/wv/A/77/vv/B/8L/xP/K/8r/zP/Q/9b/2//e/97/5v/q//L/+P/6//3/AQAGAA4AEQAXAB0AIwAiACIAJwAoADAANAA9AEAAPgBAAEAAQgBIAEsARwBHAEQAPwA/ADsANwA5ADUALwAqABsAEgAGAP7/8//r/+X/2f/P/87/xf+//7n/uP+0/7D/qv+i/57/nv+j/6T/pf+n/6r/rv+y/7v/v//F/87/2f/g/+L/5//t//j/AAAGAAwAFAAbACEAJgAnAC0ANQA3ADsAQABCAEMAQwBGAEkAQwBDAEEAPAA2AC8AKQAkACAAGgARABMAEAANAAgABQACAP3/+f/y/+v/6v/l/+H/1v/U/9T/0f/Q/87/z//J/8L/wP/C/8H/wv/B/8b/yv/O/9X/1f/a/97/4//n/+v/7v/r/+3/9v/9/wYADQALABAAEgAbABkAGQAdACAAIwAjACAAHQAgACYAJgAlAB8AHAAbABsAGQAWABgAFgAUABEADAAGAAQAAgD+//r/+f/z//X/8//y/+//6v/p/+n/6v/r/+j/5//p/+r/7f/o/+r/6f/w/+7/6v/m/+X/6//u/+3/7P/o/+z/8f/3//r//v/8//z/AAAIAAYACwAQAA8ADgARABAADwAPAA4AEAASABAACwAGAAYAAgADAAMAAAD9//7/+v/8//j/+f/z//X/9P/z/+//7//v/+//7//p/+v/8f/0//X/9//7//j/+P/6//3/AAABAAAA//8DAAEABQAIAA4AEQARABMAFAAXABwAHgAeAB8AIQAeAB0AHQAfACAAIgAfABwAGgAaABsAGAAQAA8ACwAKAAYAAQD//wEAAAD+////AAD+/wAAAQABAAMABAAGAAgADQAQABQAFAATABcAIQAkACMAIQAjACQAIQAgACEAIAAfAB0AGwAdAB0AGwAdAB0AGgAZABQAEwAVABIAEAANAAsABwAFAAYABAADAAEAAAD9//j/+v/2//b/9P/v//L/7v/t//D/8f/1//P/8v/x//X/+f/5//f////+/wAAAAACAAkADAASABUAFQAVABYAFgAZABoAGwAcAB8AHgAdAB4AHgAfACAAHwAeAB0AGwAYABgAGQAVABMAFQAUABQADgAPABEADwAOAAkACAAFAAAA+//2//b/9P/y/+//7f/u/+7/7v/v/+//8P/t/+3/7v/v//H/8P/0//n//f/8//7/AQAHAAgABwAMAA8AEAAUABcAGQAhACEAKQApACwAKwAqACkAKQAmACUAJgAjACIAIgAeAB4AHQAdABoAGgAVABYADwAPAA0ADQAFAAEAAAD///7/9//1//X/9P/x//D/7//t/+r/5//q//D/6//p/+3/7v/r/+z/7v/z//L/8v/v//L/9f/1//X/8//4//3//f/9/wIAAgABAAEAAQAHAAYAAAD9//7///8BAAUABgAFAAQABAAFAAgACgAGAAgABwAEAAUABAAFAAEA///+//7//P/6//j/+f/5//b/8f/u//H/8f/v/+z/7v/x//H/8P/1//T/9P/2//j/+P/5//j/+f/7/wAAAQAGAAoADAAQABAADgAVABcAEwAPABIAFQASABUAFwAYABUAEAAVABUADgAPABAAEAALAAwADwAUABAABwAGAAsABQAFAAIAAAD+//n/9f/2//f/9f/y//D/7P/u//D/7f/p/+n/6//m/+j/5//l/+X/6P/s/+v/5//m/+T/5P/s/+3/7v/s/+7/7P/r//H/+P/5//v/+//3//3/AgAEAAkADgAQABEADwATABIAFwAXABkAGgAZABoAGgAcAB4AHAAZABoAFgAUABMAEQAPAA0ACwAIAAkABgADAAEAAQABAP///f/+//r/+f/3//z//f/9/wAABgAGAAUABQAEAAYABQALAAoACAAMABIAGAAZABkAIAAgAB0AIAAhACIAJgAoACkAKgAsACwALQAtADAAKAAmACkAJwAnACgAKQAnACIAIAAfAB4AHwAdABsAHAAYABcAFgAVABkAFgAUABIAEQAMAAoACAAIAAwADAALAA0ACgAJAAQAAAD+//z/+//4//b/9P/z//D/8//3//f/9//1//H/8P/x//L/8//0//X/9f/3//X/9P/2//n/9//z//X/9f/0//H/9f/3//v//P/+/wEAAAABAAEAAAACAAQA/f/5//f//P/5//X/9f/y//P/8//z//D/7f/w/+//8f/u/+7/7//0//b/9//5//j//f8AAAQAAgAEAAQABwAHAAwACQAKAA8AEQATAA8ACwALAA0ADAAMAAwACwAHAAcABwAGAAQAAwADAAIA/v/8//z//////wAAAAAAAP///v/+////AQACAAMABgAKAAgABAADAAYABwAEAAEAAQADAAIAAwAHAAoACwANAAsADAANAA4ADgAQAA4ADwAQABAADwAMAAwADgANAA8AEAANAAsACAAKAAwACQAFAAQAAgAAAP3/AAD///7/+//7//b/8//0//L/8//u/+r/5//n/+P/5v/m/+j/6f/m/+X/6P/n/+v/6//v/+7/8P/z//X//f/8/wIAAgAFAAsADgASABYAGAAdAB0AIAAgACMAIQAiACIAIgAfACAAHQAeAB8AIAAcABoAFgAVABUAFQATABUAEAAOAA4ADAAMAAoABgAHAAUABQAGAAIABQAGAAkACQAHAAcACgAJAAYABQACAAEABAAFAAUAAgD/////AwAGAAYABwAGAAYACwAMAA0ACwARABMAEwAYABgAHAAdAB0AHwAiACEAHwAeACAAHQAgACEAHwAhACMAIQAeAB8AIAAeAB0AFwAaABUAEwATABAADgAQAA8ACAAGAAcABwAHAAgABQADAAIAAwADAAAAAAABAAAAAQACAP7////9/wMAAgADAAIA//8DAAMABQAIAAkABwAIAAoACwAPABAADwAPABUAFwATABYAFQAYABoAHQAbAB0AHwAeAB8AIAAeACAAIAAfAB4AHAAeAB4AHQAcABkAGAAVABMAFAAPAA8ADwAMAAcABAADAAEAAAD///3/+//1//T/8v/u/+3/7P/u/+r/6P/n/+r/6//u/+//7v/x//L/9v/6//v/+v/+/wEAAgAFAAcACAAKAAwADgARABEAEAAPABAAEgATABcAGAAXABYAFwAaAB4AGwAcABoAGAAXABYAFAASABAADQAMAAkABwAFAAMABQABAAAA/P/8//n/+f/1//X/9f/0//L/9v/z//P/9v/5//b/9P/0//L/8//y//T/8//y//P/8//0//P/9P/1//X/9P/z//T/8//0//P/9f/3//X/+P/4//z//v////3//v/+/wAA///8//z/AQACAAMAAQABAAAAAQABAAEAAQD+/////f////7//f////////8BAP/////9//7//P/+//z/+//6//b/9v/3//j/+v/7//n/+//4//b/9//6//P/9P/z//P/9P/z//L/8//1//X/9P/1//P/9P/z//H/8P/v/+//8//2//j/+P/z//X/+P/4//z/+//9//r/+f/8//3//f/+////AQD//wIAAQD///7//P/+//z//v/+//r/+f/4//j/+v/5//v/+v/5//j/9//5//n/+v/5//j/+f/0//b/8f/z//f/+f/3//X/9P/3//b/9f/0//T/9f/1//H/9P/1//b/9f/4//X/9v/4//f/9f/1//b/9//0//f/9v/6//z/+v/+//////8AAAEA//8BAAAABAACAAQABQAHAAcACgALAAkACQAHAAgABwAIAAIAAgADAAQAAQAAAAIAAgACAP7//f////3/+v/5//r/9//5//T/9//2//f/+P/4//b/9f/1//X/9P/3//f/9v/2//P/8//0//b/8//3//b/+f/2//b/9f/1//b/9P/1//f/9f/3//n/+v/2//j/+f/7//j/+f/5//j/+//4//z/AgAAAAUAAgAFAAQABQAFAAQABwAGAAEAAQACAAIAAQABAAEAAQD///z/+v/6//j/9//z//D/7//r/+r/6P/o/+f/5f/m/+T/5f/i/+L/3v/h/+L/5P/h/+L/4f/n/+b/6f/p/+n/6v/t/+//7//u/+//7//y//H/8P/v/+7/7//v/+7/7f/r/+z/7v/q/+v/6f/r//D/7//x//D/7f/w//P/8v/v/+//7//v/+7/7v/v/+v/6f/l/+T/5v/h/+D/3f/a/9j/1v/S/9T/0v/P/83/y//N/87/0P/S/9T/2P/a/93/3P/h/+X/5f/l/+n/7P/t//L/8v/y//X/9f/3//n/9//1//b/9//2//r/+v/+//3/AQABAAYABwAHAAoACAANAA0ACgAKAAoACQANAAgABwAHAAIAAQAAAP3/+v/5//f/9P/z//H/7//t/+7/7v/x/+//8P/u/+3/6v/r/+v/7P/q/+f/5//q/+f/5//m/+X/5v/k/+T/5v/m/+T/5P/l/+X/5v/n/+f/6v/r/+v/6//v//D/8//0//T/9P/z//X/9//5//n/+f/5//r/+v/8//3/+v/9//v/+//4//b/+f/1//P/9f/0//D/8v/x//L/7//w/+z/7P/r/+v/5v/o/+b/6P/o/+f/5//l/+b/5v/r/+j/5//o/+b/6//r/+z/7P/u//L/8v/0//f//f/+////AQABAAEABwANAA4ADgAMAA4AEQASABQAEwAUABUAEwATABIAEgAQABEADwAOAAwADgAKAAwADAAKAAkACgAGAAUABQAFAAQABAACAAIAAAABAAEAAQAAAAIAAQD///7//P/4//f/+f/5//n/+f/3//f/9f/3//j/+f/3//j/+f/5//j/+f/5//7////+/wEA//8AAAUAAwAIAAYACAAHAAcACQAKAAgADQALAAwADgARAA8AEAAPAA4AEAAOAA8AEAAQAA4ADAANAA0ADAANAAwADAAJAAgABAAFAAUABgAFAAQAAQD+//7////+//z/+v/8//r/+f/5//P/9//4//f/+v/4//n/+f/6//v/+//8//7//v/+////+/8BAP////8CAAIAAQACAAMAAwAEAAcABwAGAAcABAAIAAkACgAMAAwADAAOABAAEAAQAA8AEAAVABMAEgATABEAEQARAA8ADQANAA0ADQAHAAUABQACAAEAAAAAAAAA/f/+//r/+//8//n//f/4//b/9v/2//j/9P/1//b/9v/2//b/9P/y//T/9P/z//T/9f/z//L/8f/w//H/8f/w//L/8//z//L/8v/z//b/9//3//n/+v/6//v//////wIAAAABAAQABAAEAAYABQAEAAYABgAIAAgABgAKAAoABwALAAoADAAKAAoADAALAAsADgAKAAwACwAMAA4ADQANAA0ADwANAAoADAAJAAsADAALAAYACwAIAAoACQAJAAgABAAFAAUABgAHAAoABgAFAAUABQAEAAYABgAHAAUAAwAEAAUABwAFAAgACAAHAAcACgAKAAwADgARABAAEQASABIAEgASABUAEQAVABIAFQAVABUAEwARABIAEAARAA4ADAAOAAwADQALAAkACAAJAAkACQAFAAIAAQACAAEAAgABAAAAAgACAAAAAgAFAAEAAwABAAMAAAABAAAABAADAAEAAwADAAIABAAHAAoACgALAAgACwALAAwADwAOABEAEQARABUAEgAVABYAGQAZABsAGgAdABoAGwAdAB8AIAAeAB4AHwAfACEAHQAeAB8AHgAbABsAGQAaABgAFgAWABYAFAATABMAEwASABIADwARAA4AEQARABEADwAPAA0ADgANAA8ADgAQABAAEgAPABMAEAAWABYAFQAXABYAFwAXABYAFwAYABkAGgAXABYAFAAaABUAGQAZABkAGAAYABkAGwAZABsAHAAbAB4AHgAgAB4AIAAcAB8AHgAbABsAGwAaABkAFwAUABUAEwARABAADgAJAAUABgAEAAUABQACAAQAAQACAAAAAAABAP//AAABAAAAAQACAAIABAAGAAIAAwAGAAYACAAIAAkACgAIAAsACgANAA8ADwAQAA8AEAASABAAEgAVABIAFAASABQAEgAVABMAEgAUABEADwASABMAEwARAA8AEAAMAAoADAALAAwACgAMAAcACAAJAAgABgAFAAMAAgADAAUAAAD//wIA/v///wAAAAD9/wAA/f/+//7////+////AQADAAAAAwACAAIAAwAGAAQABQAHAAcABgAGAAgACQAGAAYABwAMAAoACgALAAsACQAIAAsADAALAAoACQAFAAYABQAFAAcABQADAAEAAgAAAAIAAAABAAIAAAABAP7//f/9/wAA///+//7//v/9//3/+//7//z//P/7//z/+//9//3//v/////////+/////v/9////AQAAAAEA//8AAAAAAgAEAAcABgAHAAUACQAJAAoACgAMAA4ADQAPABAAEAASABEAEwATABQAFAATABUAFAAXABUAEgARABEAEgAPAA8ADwAPAAsADQAMAAkACAAIAAkABwAJAAUACAAJAAgACwAMAAsACwAJAAsADAALAA0ADwAOAA0ADwAQABEAEQATABMAFAAWABMAFgAXABcAFwAWABYAFwAYABcAFAAWABMAEwAXABQAFAAUABIAEQARABAAEgASABAAEQARABEAEQAQABEADwASABAAEgAUABQAFAAVABUAFAATABMAEQAQABEAEQAPABEAEAAOAA8ADwAPABAADwAPAA8AEAAQAA4AEAARABMAEQAQABAAEQARABMAFAASABIAFQATABMAEAAOABAAEAARAA0ADQAMAAwADAAJAAsACgAMAAgACAAHAAYACAAGAAYABgAIAAUACAAGAAMAAwAGAAMABQAFAAMAAgADAAUABAAGAAUACQAGAAcABgAFAAcACgAIAAQABgAJAAUABwAGAAQABgAHAAUAAwAEAAQABAADAAAAAgADAAAAAgADAAEAAQABAAAA///+/wAAAQABAP//AQAAAAEAAQABAAAAAgADAP//AQD//wAAAgD+//7////9//z//v8AAP7//f////7//P/3//r//f/4//r//P/4//f/+P/3//f/+P/6//f/9//3//T/8//0//X/9f/2//T/9P/z//P/9f/w//H/7//y//D/8P/y//D/7//u//D/7v/u//D/7f/t/+3/7f/v/+//7f/u/+v/6//r/+r/6v/s/+r/6P/s/+n/6//u/+v/7P/u/+3/7f/x/+3/7//w//D/8//0//L/9P/1//T/9//0//f/9//2//b/+P/5//n/+f/6//j/9//3//f/+f/1//b/9//z//P/9P/1//X/9P/0//P/9v/1//L/9P/w//L/7//t/+//6//u//D/7v/v/+3/7v/w//D/7//t//D/8P/w/+3/7//w//H/8P/0//D/8f/1//P/9f/1//X/9f/y//L/9P/z//X/9f/0//L/9P/z//P/9f/2//b/8//0//X/9P/4//b/9//0//X/9f/0//T/9v/z//X/8//2//H/8v/x//L/8P/x//D/7//w//L/8v/1//X/8//z//X/9P/0//b/+P/2//b/9v/4//r/+f/6//r/+v/6//3//v////7//v///wAA//8DAAIAAgACAAMAAAD+/////P8BAP7/+//7//z/+v/4//n/+v/3//r/+P/5//b/9v/3//f/9v/5//n/+//4//f/+f/7//r//P/6//7/+v/9//v//P/8//3//P/7//z//f/8/wAA/v8AAAEA/f////7/AAD+////AQAAAAAAAAABAAAA//8DAAEAAQABAAMAAQACAAIAAAABAAAAAQABAP////8AAP7//v/7//7//P/9//z/+//7//n/+P/4//j/+P/1//b/8//0//T/8f/v//D/8P/t/+//7v/u/+3/6v/t/+r/6//q/+j/6f/n/+f/6v/q/+X/5//m/+b/5v/m/+b/5f/m/+f/5v/j/+T/5f/m/+n/6P/m/+f/6P/o/+j/6f/q/+v/6v/p/+v/6v/t/+z/7f/r/+z/7v/w/+3/8P/v//H/8P/v//D/7//t//D/7v/u/+r/7f/s/+7/8P/q/+v/6P/q/+v/6v/o/+j/7f/q/+z/6P/q/+n/6v/p/+z/6//r/+3/6v/r/+z/7//u/+r/6//s/+v/6v/r/+r/6//p/+b/6P/q/+f/6P/m/+b/5f/n/+T/5f/k/+b/5v/k/+b/5v/l/+P/5P/n/+P/5v/k/+T/4//h/+H/4//i/+L/4f/g/9//3v/b/9z/3P/a/9v/2v/Z/9n/2P/X/9b/2P/Y/9f/1//X/9b/1//X/9b/1v/Y/9P/1v/V/9X/2P/X/9n/2v/Z/9j/2//b/9v/3f/f/97/4P/g/+D/4v/k/+P/5f/l/+b/6P/o/+z/7f/p/+z/7//w//D/8f/0//H/9P/0//P/9P/2//b/9P/z//T/9f/z//X/9f/2//L/8//y//L/8//y/+//7f/s/+//7v/t/+7/6//t//D/8P/w/+//7//t/+7/6//s/+3/7P/s/+v/7P/p/+z/6v/r/+r/6v/o/+n/6v/s/+z/6//s/+//7v/t/+//7//x/+7/8v/y//H/9P/y//b/9v/4//b/9v/5//n/+P/5//z//P////7//v/9//z//f/+//3//f/+//3/+P/6//n/+P/3//n/9v/3//P/9v/z//P/8f/x//L/8v/x//L/8f/z//H/7//v//H/8P/w//D/7//v//H/8//w//D/8P/y/+//7//z//L/8//0//X/8//1//b/+P/6//r/+v/6//n//P/7//z//v/9//3/////////AAAAAP7/AQD//wAA/f/+/wAA/v/9//3/+v/+//z/+v/4//r/+f/3//X/9v/4//b/9f/1//P/8//x//L/8//0//P/8v/z//X/9P/x//T/8f/z//P/8//x//P/9P/0//j/9//3//n/+f/4//r/+v/7//v/+//6//z/+v/9//r/+v/7//z/+v/5//f/+P/7//f/+P/3//r/9//2//P/8v/y//T/8//w/+//7v/v/+3/7//t/+z/6//r/+n/6//o/+r/6//p/+r/5v/n/+n/5v/p/+f/6f/r/+r/6v/q/+r/7P/q/+r/7P/q/+7/8f/w//H/8//z//P/9v/1//f/8//2//b/9P/2//f/+P/3//f/9f/5//j/+P/7//r//P/5//z/+//6//r/+v/4//n/+v/6//n/+v/7//n/+P/3//f/9//2//f/+f/4//b/+P/3//f/9//3//b/9//5//r/+P/5//b/+f/6//v/+//9//v////+////+//8//7//v////z///////7//v/+//7///8AAAEA/v8AAAEAAAD+////AQAAAAAAAQAAAAEAAAABAP7/AAABAAAA//////7/AAD+//7//f/+//3//f/7//7//P/9//7//v///wAA/f8AAP3//f8AAP//AQABAP//AwADAAAAAwADAAUAAwAGAAYACAAHAAoACwALAAsACwANAA4ACwANAA4ADwAOAA8ADwAPAA8AEAAQABQADwARABAAEQASABIAEQAQABMAEAASABEADAAOABEADgAQAA8AEQAPABAADwAPAA8ADgAOAA4ADwAPAA4AEAARABEAEAANAA8ADwAQAA4AEgATABMAFAAUABIAEwASABUAFQAWABQAFAAVABYAFwAWABoAGQAZABoAGQAZABcAGAAbABgAGgAaABcAGAAXABYAGQAWABUAGAAYABMAFQAYABUAFQAYABUAFwAWABYAFgAWABUAFwAVABcAFQAVABcAFAASABQAEwARABEADwAPABAAEQAQABEADwAQABAAEAAQABEADwARAA0AEQAPAA8AEAANAA8AEAAOABAAEgARABEAEQASABIAEAAUABIAEwARABMAEwAUABMADgAQABEADQAQAA8AEAAPABAADwAQAA8AEQAQABEAEQAQABAAEwASABEAEgARAA4AEwAQABAADwAPABAADgAPAA4ADQAOAA4ADAAQAAwADgANAA0ADwAPAA8ADQAOAA8ADwAMAA4AEAAQAA4ADgANAAwADwAOAA0ADAALAAsADQANAAwADgAOAA8ADQAPAA0ADAAOAA0ADQAQAA0ADgAOAA4ADgAMAA0ADgAOAAwACwAJAAkACAAKAAgACgAEAAcABQAJAAcABQAFAAMABQAEAAUABAAGAAQABAAHAAUABQAGAAcACAAGAAcABgAJAAgABgAKAAYACgAGAAkACQAFAAYABwAFAAYABgAHAAcABwAEAAcABQAHAAQABgAIAAUABwAIAAYABQAGAAYABwAGAAoABwAKAAUABgAJAAsABgAIAAoACwAIAAYABwAKAAoADAAOAA0ADAAMAAsACwAMAA0ADAAPAAoADAALAAoACwALAAsADAAKAAwADAALAAwADAALAAwADAANAA0ADAAPAA0ADAAQAA4ADgAPABAADgAMAA8AEAARABAAEAAPAA4ADQAOABAADQAOABEADgAPAA8ADwAQABEADwAPAA8ADgARAA4ADwAPABAADwAOABAADQAPAA4AEQAUABAAEAARABAADwARAA8AEAAPABAADgAPAA8AEAAQAA8ADwANAA8ADwAQAA8ADgAOABAADgAPAA8AEQATABMAEgATABIAFAAQABEAEAASABEAEwATABEAEwAOABEAEAARAA4ADwAOABIAEAAOABAADgAPABAAEQARAA4AEQAQAA8ADgAQAA8ADgASAA8AEgARAA8AEAAPAA8AEAAPAA8ADwAQAA8ADgASAA8AEAAPABAADwAQAA0ADQAQAA8ADgANAAwACwALAA0ADAAJAAoACgAKAAwACgALAAkABgAHAAkACQAGAAcABwAGAAkACQAGAAYABgAGAAYACAAFAAgABgAGAAgABwAEAAYAAgAEAAQAAgADAAMAAAACAAMAAgADAAAAAQABAAIAAQADAAEAAwABAAIAAAABAP///v/+////////////+//9////+v/7//z//f/6//v/+//7//j/+v/7//j/+P/7//r/+//6//r//P/7//n/+//7//z//P/9//v//P/9//v/+//+//z//v/+//7///////7//////wAA//8BAAAA/v///wAA/v8AAP3///8AAP7//f/8//z//P/9//3//f/4//z/+f/4//j/+P/2//j/+P/4//X/9v/2//n/8//2//P/9P/1//f/9f/z//X/9P/0//T/9v/1//j/9v/1//T/9v/y//b/9//5//b/+f/7//n/+v/5//n/+//5//n/+v////v//f/9//7/+//+/////P/8//z/+/////7//v/+//z//P/+//3//P/9//z/+/////z//P////z//v/6//r/+//8//v/+v/7//n//P/+//v/+v/7//r//P/8//v/+v/5//v/+f/8//3//f////z//P/8//7//v/+//////8AAP//AAABAAEAAgADAAIAAwADAAQAAgAFAAUABwAEAAUABgAHAAQACAAHAAQABwAIAAYABwAFAAUABQAEAAIABAAEAAQAAgACAAIAAgABAAAAAAACAAIAAAACAAAAAAAAAP///v/+//////////7/AQD+//7//v////z//P/9//3//f////7////+//7///////7/AQD//wAAAgACAP//AQACAAIAAwADAAAABAABAAMABAAGAAUABAADAAQABQADAAQAAwACAP//AQAAAAEAAAAAAAAAAAABAP3///////3//P/+//7//f/7//r/+f/6//r/+P/5//n/9//4//j/9//5//n/+P/5//b/+P/2//f/+P/5//n/+v/2//j/+f/5//j/9//3//n/+f/6//z/+P/5//r/+P/7//j/+f/5//n/9//4//j/+P/3//j/9//3//j/9f/2//T/9P/z//T/9v/0//b/8v/z//T/8//0//D/8v/v//D/7//v//H/8f/u//D/8f/v//D/8f/u/+7/8P/v/+3/7v/t/+7/7v/v/+7/7v/t/+z/7P/u/+z/7P/t/+r/6v/q/+r/6//p/+v/6v/o/+v/6P/o/+j/6P/m/+j/5//p/+b/5//l/+b/5v/n/+j/5v/o/+f/5//o/+X/5//n/+j/5v/n/+f/5//o/+f/6f/p/+f/6f/r/+n/6v/r/+v/6//o/+r/6P/o/+f/5//o/+f/6f/m/+n/5v/n/+n/5//m/+f/5v/m/+T/5v/l/+f/5P/n/+X/5f/m/+b/6f/l/+f/6f/m/+f/5//n/+f/6P/l/+f/6f/l/+r/5f/p/+f/5//m/+b/6f/p/+f/6f/n/+n/6f/o/+v/6v/p/+v/7f/r/+z/6v/r/+v/6v/r/+n/6//r/+3/6//t/+z/6v/s/+3/6//q/+z/6f/r/+v/6//s/+n/7P/s/+n/6//r/+r/6f/q/+r/6//s/+r/6f/s/+v/6//t/+z/7P/s/+3/6v/r/+v/6//u/+v/7v/t/+z/7//u/+3/7//t/+//8v/u/+z/7v/v/+//8P/x//D/7//u//L/8P/y//H/8//y//L/9f/y//T/9v/z//P/8//0//L/8v/0//P/8f/0//P/9P/y//L/8//x//L/8//x//L/9P/z//L/8f/w//L/8f/x//L/9P/0//L/9f/y//T/8f/z//T/9v/y/+//9f/z//P/9f/y//T/9f/z//T/9f/0//b/9P/z//b/9//1//f/9v/2//f/+f/4//f/9//5//j/9v/4//b/9//0//b/+P/3//f/9P/3//f/9v/1//f/9//0//j/+P/3//T/9//0//b/9v/5//f/+P/3//n/+P/3//j/+P/5//j/+v/4//j/+P/4//v/+P/8//j/+P/7//z/+//7//v/+v/8//n/+v/3//z//f/6//z/+f/6//v/+//4//n//P/5//z//f/8//z/+f/7//r/+f/9//b/+P/5//z/+P/7//n/+//6//v/+v/7//z/+f/8//r/+//6//z/+v/7//3//v/8//3//f/8//3//f/7///////9//3////9////AQD+/////v/9////AAD//wEAAAAAAAEAAAAAAAAAAAAAAAEAAgABAP//AAABAP7/AAD///7///8CAP7/AQD+/wAA/v8AAAAAAAABAAIAAwABAAAA//8DAAEAAwADAAMA//8AAAQAAgAFAAQABQAEAAcABQAEAAgABwAIAAYABgAGAAcABwAGAAgACQAHAAYABwAHAAcACQAGAAkACgALAAsACgAJAAsADAAKAAwADAAJAAwAEAAOAA0ADwANAA0ADwAQABAADwAQABAADgASABAADgAQAA8ADgARAA8AEAAOAA8AEAANAA4ADAAPAA8AEAAPAA4ADgAOAA8ADwAPABAADwAQAA4ADwARABEADgARABEAEgATABEAEgASABQAFAAUABQAEwAWABMAFAAVABUAFgAWABcAGAAUABkAGAAZABgAGQAXABgAGgAaABsAGAAYABoAGQAYABgAGwAaABoAGgAaABwAGgAbABoAFgAYABkAFgAWABYAFgAWABYAFQAWABYAFwAUABQAFgATABYAFAATABMAFQAUABQAFQAUABMAFQAWABcAFQAYABUAGAAWABUAGAAWABcAFwAWABgAGwAZABgAFQAZABgAGAAVABcAFwAYABYAGQAYABcAGAAZABYAFQAWABQAFgAWABQAFQAWABQAFgAWABcAFwAXABYAFwAWABMAEwAWABQAEgAUABMAEgATABUAFAASABIAFAAUABQAEwASABIAEgASABEAEQARABIAEgARABAAEgAQABEADwAQABEAEgARABMAEQASABMAEwAOABEADwAPAA8AEgAPABEAEQAQABAAEQARABAADwARABEAEAAPABAAEAAOAA8AEAAQABAAEQAPAA8ADQAOAA0ADQANAA4ADQAQAA0ADQANAAsADQAMAAsADAAOAAsADAALAAoACwAOAAsACwALAAoADAAKAAwACgAMAAkACwAMAAkADAANAA4ADAALAAsADAAMAAoACwAMAAwADAAMAAkACgAKAAsADAAMAAsADAAKAAsACgAMAAwACwAMAAkACQAKAAkADAAKAAsACQAKAAsACQALAAsADQAMAA4ADQALAAsACQANAAwADAANAAsACwAOAA4ADQAPAA4ADwANAA4ADwANABAADwAPABAAEAAQABEAEQAQABAAEgAQABAAEQARABEADwAUABIAEwARABQAEwASABEAEgAOABMAEQATABEAFAATABMAEgATABMAEgAUABEAEQATABIAEAATABMAEwAUABMAFAASABMAEwATABQAEQATABMAEgARABIAFAASABAAEwARABIAFAASABIAFQAUABUAFQAVABUAEwAVABQAFQAWABYAFgAUABUAFgAVABUAFgAZABMAGAAWABcAFwAUABgAGAAUABUAFQAVABQAFQAWABQAFAAUABUAFAATABMAFAASABIAEQAUABIAEgARABEADwAQABIAEAARABIAEgASABMAEgAUABMAEwARABMAEAASABQAFQARABIAEgASABAAEgARABMAEwATABMAEQASABYAFAASABQAEwATABMAEQAPABMAEgASABIAEgASABIAEQARABAAEAAQABAADwARAAwADgANAA8ACwANAAwADAALAAoACgAJAAsACAAJAAcABQAHAAcABgAFAAYACAAFAAMABgADAAYABwAEAAYABgACAAQABQAEAAQAAwAGAAQABQAGAAQAAwAGAAQABgAGAAUABQAIAAUABQAGAAgABAAEAAMABgAFAAYABAAGAAYAAgACAAQABQAGAAMAAwABAAEAAgADAAIAAQACAAIA//8DAAEAAAABAP///v///wIAAAD+/wAA/f////3//f/8//7/+//+//7//P/+//3//P/8//z//P/9//z//f/6//3//f/9//7//P/9//3//v/8////+//9//7//v/8//7/+v/+//z//P/8//3////8//7//f/9//3//v////3//v/9//7//P/8//3//f/+//3//P/8//3//P/8/wAA/P/8//3////+//7//v/9////+//8//7/+//8//3//f/9//7/+v/+//z/+f/6//z//f/9//z//f/+/////v/+//3/+//7//z//f/+//7//f8AAP3//v///wAAAAAAAAMAAgABAAIAAgABAAEAAgAEAAIABAACAAIAAgACAAQABAAEAAIAAwACAAMAAAAEAAEABAAAAAEAAAABAAAAAgABAAIAAQABAAEAAAD//wAA//8BAAAAAQD/////AAACAAEAAQABAP7/AgABAAEAAQD//wAAAgACAAIAAQACAAEAAwABAP//AQACAAIAAQABAAEAAQACAAMAAAD///7/AQD+/wEAAwABAAEAAwAEAAQAAwACAAAAAQADAAEAAAADAAEAAQACAAEAAQAAAAEAAgAAAAEAAwADAAMAAQAAAAAA//8CAAIAAgABAAAA//8AAAEAAQABAAIA/v8AAAEA///9//7////9//7//P/9/////P/6//7//f/9//r//P/9//n/+v/6//r/9//7//v/+f/4//r/+f/6//r/+f/6//j/+P/4//v/+v/4//j//P/7//n//f/5//z/+f/8//z/+f/6//v/+//7//v/+v/6//n/+f/8//n/+f/4//j/9//2//b/9//2//f/9v/0//T/9f/0//P/9f/0//L/8//0//T/9P/0//P/8//x//D/8f/w/+//8P/x/+//8P/x/+//8P/v/+//8P/u//H/7//t/+3/7//v//D/7v/u//D/7v/u/+//7//u/+3/7f/p/+3/7f/u/+r/7f/r/+z/7P/q/+v/6v/q/+v/6//t/+v/6//q/+r/6//r/+v/6f/r/+v/7f/r/+r/7P/s/+z/6//q/+z/7P/s/+z/6v/r/+3/6//n/+r/6//q/+j/6f/q/+j/6f/r/+n/6P/n/+j/5//o/+j/6P/p/+n/6P/p/+f/5//o/+n/5//o/+j/5v/o/+r/6f/o/+j/6P/q/+r/6v/q/+v/6P/p/+j/6f/q/+3/6//r/+r/6v/r/+v/6v/p/+n/7//r/+z/7P/q/+v/7P/t/+z/7P/s/+7/7//u//D/7v/y/+3/7//w//D/8P/w//H/7//x//D/8P/w//D/8f/0//T/8//z//X/9P/z//H/8P/0//T/8//1//P/9P/z//X/8//1//T/9P/1//T/9P/y//P/8//1//X/8//z//X/8//2//X/+P/3//n/9//4//f/9v/5//j/+f/4//n/+v/4//n/+//7//7//P/9//7//f/9//7/+/////7/AQD9//7//v8AAAAA//8CAAEA//8DAP7///8BAP7/AQABAAEAAQABAAAA//8BAAAAAAABAAEA/v/+/////v///wAA/f/+//7//v/9/wAA////////AAD+/wAA/v8AAP7//f/9/////v8AAPz//v8CAAAAAAAAAAEAAAABAAEAAAD//wEAAQABAAIAAQABAAQAAQACAAQAAwADAAMAAQACAAQAAAACAAAAAgAAAAIAAQACAAEAAQAAAAMA//8BAAAAAwADAAIAAwAEAP//AAD//wAAAAACAAAAAAABAAEAAwACAAIAAAABAAIAAwD//wIAAAAAAP//AQABAAEAAwD//wEAAwABAAIAAQACAAAA/f8CAAEABAADAAEAAgABAAIAAAABAP//AQAAAAEAAQABAAEAAAABAAEAAgAAAAAAAgD//wEA//8AAP////8CAAEAAQAAAAEA//////7/AQD////////+//3//v////7//v////3//P/+//z////8//7//f/9//z//P/9/////f////3//P/9//z//P/8/////f/6//z////8//z//P/+//3//f/9//z///////3//P/+//7////+/wAA//8AAAAAAQABAAEAAgACAAAAAAAAAP///v/+/wMAAAD/////AAAAAAAAAQD//wAAAQD//wEAAQACAAMAAwABAAIAAwACAAIAAgACAAYAAwAGAAQABwAHAAYABwAHAAUABQAIAAsABwAJAAsACQAKAAsADAAKAAsADAAJAAoACgAKAAsACQAIAAwACwAMAA4ADAAMAAsADAAMAAwADAANAAsADQALAA8ADQARAA4ADgAOAA8AEAAPABEAEQAQABEAFAASABQAEgASABMAFAAVABQAFAAQABQAFAAUABUAFwAVABUAFAAVABUAFwAWABoAGgAaABkAGgAZABoAGQAZABkAGQAaABoAGgAZABsAGwAbABwAHAAcABoAGgAYABoAGAAcABwAHAAcABsAHAAbAB0AHgAdAB0AHAAdABwAHgAdAB0AHQAdABwAHAAgAB0AHAAgAB8AHgAfAB0AHAAfAB8AHQAfAB8AIAAgACEAIAAeACEAIgAjAB8AIAAhACIAIQAiACAAHgAhACIAHwAgACEAIAAeABwAIQAgACEAHQAiACIAIQAhACEAHwAhACAAHgAiACIAIQAgACEAHwAhAB8AIQAgAB8AIgAeAB8AHwAgAB8AHgAfAB8AIAAgAB8AIAAcAB8AHgAdABwAHQAdABoAGgAeABwAHAAbABoAHAAaABoAGgAZABoAGgAYABwAGwAbABsAGgAaABoAGgAZABsAGgAaABcAGgAYABYAGAAaABcAGQAXABcAFAATABQAFAAUABUAFwAUABEAFAATABMAEgARABIAEwARABIAEAANAA8AEQAPAA4AEQAPAA8ADwAPAAwADgANAA0ADgAOAAwADgAOAA4ADgAOAA4ADQAMAAoADQAMAA8AEAAPAA8AEAAPAA8ADwAOAA4ADwAOAAwADgANAA0ADQANAAwADQANAAsADAALAAoACgALAAoADAAOAAsADQAJAAoADAALAAoACQAJAAcABwAKAAoACQALAAkACwAIAAgACwAHAAoACwAKAAoACgAHAAsACgAJAAoACgALAAwADAALAAsACwAKAAsADQAKAA0ACgAMAAoADAAMAAwACwAMAAwADAALAA0ACwAKAAwADAAMAAwADAAKAA0ADAALAAoACgAMAAwADAAKAA0ADAANAAsADAALAAkADQAOAAwADQANAAoACQAKAAkADAAJAAsADAALAA4ACwANAAsADgANAAsADgALAA8ADQANABIADgAOABAADwAQAA0ADwAOAA4ADwARAA4AEAAPAA4AEAAPABAADgANAA8ADwAMAA4ADwAPAA8AEAAPAA8AEAAQAA8ADwAQABAADwATABEAEgASABQAEgAQABMAEAAPABIAEQAOAA8AEQARABIAEQARAA0AEwARABIAEQASABAAEQASABAAEAAPABAAEQASAA8AEgARABEAEAAUABEAEQARABIAEAARABEAFAATABMAEQATABAAEgARABIAEwASABQAEAASABQAEgAUABIAEgARABEAEAARABIAEAARABMADwAQABEADgAQAA8ADgAQAA8ADwAQABAAEAAQAA0AEAARAA8ADwAPAA4AEAAQABEAEAAQABMAEAASAA8AEAAQAA8AEgAPABAADwAOAA8AEQAOABAAEQAQAA4AEQALAA0ACwAMAAsADgAOAAwADAANAAwADQAKAAsACAAIAAYACQAHAAcABwAFAAYABQAGAAUABwAGAAcABwAGAAYABgAFAAYACAAHAAcABwAFAAUABwAFAAUABwADAAYABwADAAUABAADAAYAAwAEAAQABAAEAAYABQADAAQAAwADAAIAAQABAAAAAgACAAIAAAAAAAEAAQD///3////8//7////9/wAA/f///wAA/P/7//v/+//9//r/+v/7//v/+//4//n/+v/5//j/+v/3//f/+//4//v/+v/5//j/+//4//v/+P/2//n/+P/4//X/+P/3//b/9//3//j/+P/3//X/9//3//f/9v/5//j/9//4//f/+v/5//v/+f/7//z/+//8//z/+//8//7/+//8//v/+//6//r/+//8//f/+//7//v//P/8//r//P/6//v/+f/6//n/+P/3//r/9//5//v/9//3//j/+P/3//r/9v/2//f/9f/2//f/+f/3//j/+P/5//j/+P/7//n/+f/4//f/+P/6//r/+//5//r/+f/5//r//P/7//3/+//8/wAA/v/8//3/AAD9/////f/////////+/wEA/v8AAAAAAQABAAAAAQD//wEAAAAAAP///v/+/wEA/v8AAAAAAQAAAAAA//8BAPz//f8CAAAA/v8BAAEA/v/8////AQD//wEAAQD//////v8DAAEAAQACAAIAAQACAAEAAgABAAIAAgADAAAAAQADAAMAAQABAAEAAgACAP//AgAAAAUAAQABAAMAAwABAAEAAgACAP//AAABAAAA/v///wAAAQD/////AgD/////AAACAAAA//////7//v///////f/9/////v/+//3//v/+//7/AQD+//v//v/8//7//f/7//v//f////r//f/8//z/+//7//r//f/8//j//P/6//n/+v/6//v/+f/7//v//P/3//r/+f/5//r/9//3//r/+f/4//f/9//2//j/9v/3//X/9P/2//f/9P/1//b/8//0//T/8//y//X/8//z//T/9P/z//P/9P/x//L/8f/y//L/8//y//H/8v/y//L/8v/w//D/8P/w//D/8P/w/+7/8P/u//D/7//r/+//7P/s/+z/7P/s/+v/6f/r/+r/6P/q/+f/6v/r/+n/5//n/+j/6f/o/+f/5//n/+f/5v/n/+j/6f/n/+f/5v/n/+b/5//n/+b/5v/o/+f/5//n/+f/5v/m/+X/5v/n/+f/6P/m/+f/5P/m/+P/5f/n/+b/5//n/+X/5v/o/+j/5v/n/+b/6f/o/+f/5v/o/+b/6P/n/+b/5v/m/+b/5v/m/+b/5f/k/+b/5P/j/+X/5v/l/+X/4//m/+b/5P/m/+b/5P/o/+X/5//n/+X/6P/l/+f/5f/n/+T/5v/o/+b/5//l/+v/6P/o/+n/6f/r/+r/6f/q/+r/6//s/+z/7P/r/+7/7//t/+v/7P/s/+//7f/t/+7/7P/t/+7/8P/t//H/7//v//H/8P/u//H/7f/v/+7/8P/v/+7/7v/t/+//7//w/+7/7//v/+//7//v/+//8P/v//D/7//w//D/8f/w//L/8v/z//H/8v/w//P/8v/0//P/9P/0//X/9f/0//T/9f/0//X/9v/1//f/9v/2//b/9//4//X/9//3//X/9P/0//X/9f/2//b/9//5//r/+f/4//j/+f/6//j/+//5//j/+f/7//n/+v/6//z//f/8////+//+//z//f/+//r//P/+//v/+//8//z//v/8//v/+//7//v//f/6//3/+v/5//v/+f/4//r//v/4//v//f/6//r/+v/7//f//f/7//z/+v/6//r/+v/7//z//P/4//z/+v/6//z//P/7//v/+v/6//r/+f/6//n/+//6//r//P/6//r//P/5//n/+v/7//n/+f/4//n/+f/6//n/9//3//f/9//5//f/+f/5//j/9v/5//j/+v/3//n/9//5//b/+f/3//j/9//4//f/+v/4//f/+P/2//b/9v/2//X/9v/0//T/8//1//P/8//z//b/8//z//T/8//1//T/8f/0//P/9f/2//b/9v/0//f/9P/2//X/9f/0//X/9P/2//T/9P/1//X/8//0//T/8v/z//L/9P/z//P/9P/0//T/9f/1//L/9f/z//T/9v/0//T/8//2//T/9P/1//P/9P/z//P/8//z//P/8v/z//P/8//y//T/8//0//f/9P/1//L/8//2//P/8//z//X/9P/0//X/8//z//f/8//1//T/9P/2//X/9f/0//T/9P/1//T/9f/z//X/9v/3//P/+P/y//X/9P/2//X/8//1//T/9v/1//j/+P/4//f/+P/2//j/+//4//n/+v/5//n/+f/7//v//P/7//r//P/7//7//f/8//3//f/8//3//P/9//3//v///////f/8//7//v///////f8BAAAA/v/+/wEAAQABAP///f//////AAABAAAAAgABAAIA/v8BAAIAAQABAAEABAABAAIAAwAAAAIABAACAAMABAACAAIABQAEAAUABgAFAAYABAAFAAUABgAGAAYACQANAAkACQAGAAoADQAMAAsACgALAA0ACgAOAAwACgANAA4ADgANAA0ADgALAAwADAAMAAoADAAMAA4ACwALAAwACwAMAAoADAAMAAsACwAMAAwADAAMAA4ADQAOAAwADAAMABAACwAPAA4AEAANAA8AEAAQAA8AEAARAA8AEAARABAAEQAQABMAEgAQABIAEwATABMAEwASABIAEwAUABUAFQATABIAFwAVABQAEwARABQAEwAVABMAEgAUABIAEQARABMAEwASABMAEQATABEAEgAQABAAEQAOAAsADwAOAA8ADgAQABAAEQARABAAEAAQAA4ADQAPAA8ADQANAA0ADgAOAA8ADgAPAA4ADQAPAA4ADQAMAA8ADgAOAA0ADQAPAA8ADgAPABAADQAQAA4AEAAMAA4ADgAOAA8ADwAPAA4ADAAMAA0ADgALAAwACwALAAsACwAKAAoACgALAAoACwAJAAsACgAIAAkACQAHAAkACAAGAAgACQAFAAgABgAIAAkACAAJAAcABwAHAAcACAAIAAcABwAGAAcACAADAAYABwAGAAMABQAGAAUABwAGAAUABwAGAAYACAAHAAUABQAGAAYABgAHAAQABwAEAAYABAAIAAgABwAFAAQABwADAAYABQAEAAcABwAGAAYABwADAAYABgAHAAgABgAGAAYABwAFAAYABgAIAAcACAAIAAcACQAIAAUABwAHAAkAAwAFAAcABAAHAAQABwAEAAMABQAEAAQABAAEAAYABgAEAAUABwAGAAQABAABAAUABAAGAAIAAQADAAMAAQAEAAQABAADAAYAAwAEAAQABgAHAAUABQAFAAYABQAIAAgABwAKAAYACgAGAAYABwAIAAgACAAIAAkACQAHAAkACwAHAAgACAALAAgACQAJAAgADAAJAAkACgAKAAoACAAKAAsACAAHAAkACwAIAAoACQAKAAsACwAJAAsACAAKAAsACQALAAoACwALAAwACgALAAoADAAKAA0ACwALAAsADAALAAsACwAMAAsADQAOAA4ADAAMAAwACwALAAsACwAMAA8ADwANAA8ADwAPAA4ADAAMAA0ADQAMAA4ADQALAA4ADwAQAA0ADQAOAA4ADgAOABAADwAOAA8ADwAOABEADwAQABAAEQAQAA4ADgAQABAADgAQABAADwAQAA8ADQAOAA0ADgAOAAwADgAPAA0ACwALAAwADAANAA0ACwAKAAoADQAMAA0ADAAJAAsACwAMAAoACwALAAgACwAKAA0ACQAIAAoACAAIAAkABwAJAAkACAAKAAYACAAKAAcACAAHAAcABwAGAAYACQAFAAgABwAHAAcABwAHAAcABgAGAAcABgAGAAcAAwAGAAcABQACAAYABAAEAAQAAgACAAEAAQAAAAAAAAAAAAEAAQD///3//////wAAAAD//wAAAAD7/wAA/f/+//3//f/+//3//f/+/////v/+//3//v/9//3//P8AAP/////8//3/+//+//z////+/////f/8//3//f////z//P/+//z//f/+//v//f/8//v/+//+//z/+v/9//r/+v/8//v/+v/4//v/9//6//j/+P/5//n/+P/3//f/9v/1//b/9f/3//j/9f/1//T/8//2//X/8//2//X/8v/1//T/8//0//T/9f/2//T/9P/1//X/9v/2//b/9v/1//b/9//3//X/9v/3//j/9//3//f/9v/2//j/+v/4//X/9//3//j/9v/z//P/9f/2//T/9P/1//T/9P/2//X/9f/2//b/9P/1//P/9v/0//X/8//z//P/9P/1//P/9P/y//T/9P/0//T/9f/0//T/9v/0//X/8//1//P/9//0//T/9f/1//T/9v/z//T/9//y//b/9P/2//X/9f/1//b/9P/1//b/9//3//b/9f/3//b/9P/2//T/9v/1//b/9v/2//b/9f/3//b/9v/1//X/+P/4//n/+f/3//j/9//4//X/9v/5//f/9//2//j/9f/4//X/9f/3//X/9f/2//f/9f/3//X/9//z//b/9v/2//X/+P/1//f/9//2//T/9f/3//X/9//1//r/9v/1//X/9v/3//b/9//0//j/9f/3//b/9v/1//X/9v/1//T/9v/0//T/9P/1//b/9f/z//f/8//1//X/8//0//X/8v/0//b/8v/z//T/9f/z//D/8//0//X/8//y//T/8//z//P/9f/z//T/8//y//H/8f/0//P/8//x//H/8f/x//H/8f/z//D/7v/v//D/7v/v/+//7f/x/+7/8f/u//D/7//t/+//7//t/+z/7f/s/+z/6//s/+v/6//p/+z/7P/r/+r/6//s/+r/6v/r/+n/6v/p/+j/6//q/+n/6P/p/+r/5//r/+n/6f/n/+j/6f/o/+f/5//p/+j/6P/p/+X/5v/o/+n/5//m/+b/6P/o/+b/5//p/+b/6P/n/+j/5f/n/+f/5//n/+j/6v/n/+b/5//n/+b/5f/m/+T/5f/m/+b/5//n/+X/5v/l/+P/4//j/+X/4v/j/+L/4f/j/9//4f/i/+L/4v/j/+P/4P/i/9//4v/j/+T/4f/g/+H/4v/h/+T/4//m/+D/4v/k/+P/5P/k/+L/4//l/+L/5v/k/+X/5f/m/+T/5f/k/+X/5P/j/+X/5P/j/+P/5//l/+X/5P/m/+P/5f/j/+X/4//l/+T/4//k/+L/4f/j/+H/4//k/+P/4//m/+P/5v/k/+X/5v/l/+b/4//m/+X/5P/l/+T/5f/m/+b/5v/m/+b/6P/n/+j/5f/n/+f/6P/p/+f/6P/q/+b/6f/o/+b/6f/l/+n/5v/n/+f/6v/n/+r/6f/p/+n/6f/q/+v/5//o/+r/6P/p/+n/6v/q/+n/6//r/+v/6//q/+v/6//t/+v/7P/r/+v/6//t/+r/6v/t/+v/7f/t/+z/7P/t/+z/7P/t//H/7f/s/+3/7f/w/+//7v/v/+7/7f/w/+z/7f/u/+7/8f/x//D/7f/w//H/7//w//H/8v/y//P/8f/x//H/8f/z//H/8f/z//H/8f/x//T/8P/z//L/8P/x//H/8f/w//L/8//y//D/8v/v//D/8f/y//H/8P/v//D/8P/w/+//8f/v/+//7//u/+//8f/v//H/8P/w/+//7//v/+//7//v/+//7f/w/+//8P/x/+7/7//w/+3/8P/v//D/7//y//D/8f/v//D/7//x//H/8v/v/+//7//x//D/7//w//L/8f/u/+7/8v/w/+//8P/x//D/8P/u//D/8v/w/+3/7v/u/+7/7v/w/+7/7v/v/+r/7P/u/+z/7f/q/+//6//o/+v/7P/r/+z/6//s/+z/7P/s/+3/6//s/+r/6v/p/+z/7P/r/+3/6f/r/+v/6f/r/+n/6//s/+j/6f/p/+r/6v/o/+v/6v/p/+n/6P/n/+f/5//q/+n/5//q/+f/5v/r/+j/5//p/+f/6f/p/+n/6P/n/+j/6P/r/+f/6P/r/+r/6//q/+v/6v/p/+n/6//q/+n/6v/r/+v/6//s/+v/6//q/+v/6v/q/+r/6v/o/+v/6f/q/+r/7P/q/+v/6//t/+z/7P/q/+v/6//s/+3/7P/t/+7/8P/t/+7/7//v/+3/7//u//H/7f/t//D/8v/v//D/7v/v//H/8P/y//D/7v/x//H/7v/v//D/8P/w/+//8f/y//D/8f/w//H/8v/w//L/9P/2//P/8//1//P/8v/0//P/9v/4//b/+P/3//j/+f/2//n/9//4//j/+f/4//f/+P/4//n/+v/4//v/+//7//v/+//9//z/+v/7//n/+v/7//v//f/6//3//P/9//v//P/7//7//P/+//v/+//8//z//v/9//7///////7/////////BAD+/wAAAgD+/wIAAQADAAAAAAABAAIAAgADAAAAAQABAAMAAgAAAAQAAgAEAAQAAwAEAAMAAgAGAAUABAADAAMAAwAFAAQABgAFAAUABAAEAAQABQABAAIABgADAAIABgACAAQAAgADAAMABQAEAAQAAQAFAAQABQAFAAQABAAEAAUABgAFAAMAAwAGAAQABQAFAAQABAAFAAMABQAEAAEAAgADAAQABAACAAMAAQAFAAUABAADAAQAAgACAAYABAADAAYAAwAGAAMABQADAAMABQAFAAUABAAEAAQAAwAFAAUAAgACAAMABQABAAEAAwACAAMAAwAEAAMAAwAAAAIAAgACAAIAAgACAAEAAQACAAEAAwADAAIAAgADAAMAAQADAAEAAAABAAAAAwD//wEAAwACAAAAAgABAAAAAgACAAIAAgABAAEAAAABAAAAAQD//wMAAAAAAAEAAgABAAIAAQADAAIA//8BAAIAAgABAP//AQADAAIABAAEAAIAAgACAAIAAgABAAEAAAACAAEAAQABAAAAAAAAAAEAAQAAAAEAAQABAAAAAAABAAIAAAACAAAA//8BAAAAAgAAAAMAAQABAAEAAgACAAEAAQADAAAAAwACAAIAAQABAP7/AQACAAAAAQADAAIAAgACAAIAAwADAAMAAwACAAMAAwAEAAQAAgADAAIAAwADAAMABAAFAAMABwAEAAQABQAEAAQACAAIAAUABwAHAAYABQAIAAYABgAHAAUABwAGAAYABwAFAAQABgAIAAYABgAFAAYABAAFAAcABgAIAAUABgAHAAgABwAHAAkACAAHAAcABwAIAAgACQAIAAgACAAGAAcACQAKAAgACQAJAAsACAALAAkACwAJAAoACwALAAoADAAMAAsACwANAAsACgAMAA0ADAAKAAsADQAOAA0ACwAMAAsADAANAAsADQALAAoACwALAA0ADAALAAwADAAMABAADQAMAAsADgAKAA0ADQAOAA0ADQAOAA0ADwANAA8ADwAPABAAEAAQAA8AEAALAA4ADwAPAA4ADgARABAADwAQAA8AEQAQAA4ADgASAA4ADQAOAA4ADwAOAAsADAAMAAsACwALAA8ACwAMAAwADAANAAoADgALAA0ADAAKAA0ADQANAAsACwAOAA0ADgAMAA0ADgAMAAwADAAOAA0ADAAMAAsACwAMAAwADAAKAAsADAALAAsACgALAAsACgAKAAsACQAIAAgABQAIAAgABgAFAAUABwAGAAYABgAIAAUABQAFAAIABwAFAAMAAwACAAMABAACAAIAAwACAAMAAgADAAEAAwABAAQAAgABAAIAAgD//wEAAgAAAAAAAAACAP//AAD+////AAD//wEAAQD///7/AAAAAAAAAAD+/wAA/v/+//7////+//3////8//3//f/8//r//f/4//v/+f/4//n/+P/6//j/+f/4//f/+//4//j/9//4//b/+P/0//f/+P/2//X/+P/4//f/9//3//b/9f/3//b/9f/1//X/+P/3//f/+P/4//X/9v/2//X/9//3//b/9//1//f/9f/1//T/9v/3//b/9v/z//P/9f/3//T/9//1//f/9v/1//j/9v/2//b/9v/3//T/9//1//b/9v/3//j/9//2//j/9v/3//f/9v/4//b/9f/5//b/9//3//b/+P/2//n/+P/3//n//P/5//v/+f/7//z/+//7//v/+P/6//r/+//5//r/+v/6//r/+f/6//r/+P/5//z/+v/5//n/+P/5//v/+f/8//v//f/6//r//P/7//3/+v/6//v//P/+//r//P/9//3/AAD///z//f/8/////v/9//7/AAD///3/AAD+//7/AAAAAP//AQAAAP7///////////////7//v8AAAEAAAD///7///8AAP///v////7/AAACAAAAAQD+/wAAAAD+/wIAAAAAAAIAAAD+/wEAAgAAAAAAAAAAAAAAAwADAAAAAAAAAAAAAgABAP//AgAAAAIAAAAAAAAA//8CAAIAAQADAAEAAgAAAAAAAgABAP//AAAAAAIAAAD//wEAAQAAAP//AAABAAEAAQABAAEAAAD//wAAAAAAAAAAAQABAAAAAQACAAAAAQABAAIAAQABAAEAAAAAAP///////wAA//8BAP//AAAAAAEA/v8AAP///v8AAAAAAAAAAP////8AAP//AAAAAAAAAAD///////8BAAAA//////7/AAABAAAAAAD///7///8AAP//AAD//////v8AAP7//v8AAP3///8AAP7//v/+/wAA//////7////+//3//f/+//7//v/8//3//f/+//7//v/+//7//f8AAPz/+//9//v//f/7//z//f/8//7//v/8//3//P/7//z/+/////3//f/9//z/+//9//3/+//6//v/+//7//z//f/7//z//P/9//z//v/8//7//P/8//v//P/7//v//P/9//z/+//8//z//f/7//z//P/+//7/+//9//3//P/8//z//v/6//3//f/+//z//f/8//3//P/6//7//v/9//z/+//8//z//P/8//z//v/8//3//f/+//z//P/7//z/+//6//3////9//v//v/9//3//f/9//z////+/wAA/P/+/wAA/P/8//7//f////7///////z/AAD///3//f/9/wAA//8AAP7///////////8CAAAAAQABAAAA/v///wEAAAAAAP7///8AAP//AQABAAEAAAAAAP//////////AQAAAP//AAD//wEAAAAAAAIAAgD+/wAAAAD+/wEAAAD/////AAABAP///v///wAA//8AAP7//v8CAAEAAAAAAAAAAQD/////AAD+//7//v///wAAAQD+//7//v8BAP7/AAD//wAAAAAAAP///v8AAP//AQACAP7/AQD+/wAA////////AQAAAP//AQAAAAAA/v///wAA/v8AAP//AAD//wAAAAAAAAAA//////////8AAAAAAAD+/////P///wEAAAD//wEA/v8BAAIA//8CAAAAAAD//wEA/P//////AQD//wEAAAABAAAA/v8AAP///v8BAAAA/v8BAP//AQAAAP//AQAAAAAAAQABAP7//v8AAP//AQAAAP7//v8BAP////8AAP//AAAAAAEA///+/wAAAAD+/wAA//8AAAEAAQABAAEAAAD+/wEA/v8BAAAA//////////8AAAAA//8AAAEAAAABAP///v8BAAAA///+////AQD/////AAD+////AAABAP///v//////AAAAAP//AQD//wEAAAD/////AAAAAP////8AAAAAAAD+/wEA/////wEAAAD/////AQABAAEA/////wAAAQD//wAA//8AAP3/AAABAP//AQAAAP7//////wAAAQD+//7/AAABAAAA//8AAP///v/+////AAABAP///////wEAAAABAAAAAAD+/wAAAgD//wEAAAAAAAAA/////wAAAAD+/wAAAQAAAP7/AAD//wEAAAAAAAAAAAD//wEA/v////7///8AAAAA///+////AQA=\" type=\"audio/x-wav\" />\n",
       "                    Your browser does not support the audio element.\n",
       "                </audio>\n",
       "              "
      ],
      "text/plain": [
       "<IPython.lib.display.Audio object>"
      ]
     },
     "execution_count": 72,
     "metadata": {},
     "output_type": "execute_result"
    }
   ],
   "source": [
    "audioFile = train_audio_path + '/' + trainAtt.fname[2]\n",
    "print(audioFile)\n",
    "ipd.Audio(audioFile)\n"
   ]
  },
  {
   "cell_type": "markdown",
   "metadata": {},
   "source": [
    "# Compute Audio Sampling Rates"
   ]
  },
  {
   "cell_type": "code",
   "execution_count": 96,
   "metadata": {},
   "outputs": [
    {
     "data": {
      "text/html": [
       "<div>\n",
       "<style>\n",
       "    .dataframe thead tr:only-child th {\n",
       "        text-align: right;\n",
       "    }\n",
       "\n",
       "    .dataframe thead th {\n",
       "        text-align: left;\n",
       "    }\n",
       "\n",
       "    .dataframe tbody tr th {\n",
       "        vertical-align: top;\n",
       "    }\n",
       "</style>\n",
       "<table border=\"1\" class=\"dataframe\">\n",
       "  <thead>\n",
       "    <tr style=\"text-align: right;\">\n",
       "      <th></th>\n",
       "      <th>fname</th>\n",
       "      <th>label</th>\n",
       "      <th>manually_verified</th>\n",
       "      <th>samp_rate</th>\n",
       "    </tr>\n",
       "  </thead>\n",
       "  <tbody>\n",
       "    <tr>\n",
       "      <th>0</th>\n",
       "      <td>00044347.wav</td>\n",
       "      <td>Hi-hat</td>\n",
       "      <td>0</td>\n",
       "      <td>44100</td>\n",
       "    </tr>\n",
       "    <tr>\n",
       "      <th>1</th>\n",
       "      <td>001ca53d.wav</td>\n",
       "      <td>Saxophone</td>\n",
       "      <td>1</td>\n",
       "      <td>44100</td>\n",
       "    </tr>\n",
       "    <tr>\n",
       "      <th>2</th>\n",
       "      <td>002d256b.wav</td>\n",
       "      <td>Trumpet</td>\n",
       "      <td>0</td>\n",
       "      <td>44100</td>\n",
       "    </tr>\n",
       "    <tr>\n",
       "      <th>3</th>\n",
       "      <td>0033e230.wav</td>\n",
       "      <td>Glockenspiel</td>\n",
       "      <td>1</td>\n",
       "      <td>44100</td>\n",
       "    </tr>\n",
       "    <tr>\n",
       "      <th>4</th>\n",
       "      <td>00353774.wav</td>\n",
       "      <td>Cello</td>\n",
       "      <td>1</td>\n",
       "      <td>44100</td>\n",
       "    </tr>\n",
       "  </tbody>\n",
       "</table>\n",
       "</div>"
      ],
      "text/plain": [
       "          fname         label  manually_verified  samp_rate\n",
       "0  00044347.wav        Hi-hat                  0      44100\n",
       "1  001ca53d.wav     Saxophone                  1      44100\n",
       "2  002d256b.wav       Trumpet                  0      44100\n",
       "3  0033e230.wav  Glockenspiel                  1      44100\n",
       "4  00353774.wav         Cello                  1      44100"
      ]
     },
     "execution_count": 96,
     "metadata": {},
     "output_type": "execute_result"
    }
   ],
   "source": [
    "#Create an empty list of audio sampling rates\n",
    "samp_rate = []\n",
    "#Loop through each file and calculate sampling rate\n",
    "for index, fname in trainAtt.fname.iteritems():\n",
    "    audioFile = train_audio_path + '/' + fname\n",
    "    rate=read_wav(audioFile)[0]\n",
    "    samp_rate.append(rate)\n",
    "#Insert samp rate list into a new column of the trainAtt dataframe\n",
    "trainAtt['samp_rate'] = samp_rate\n",
    "#View updated dataframe\n",
    "trainAtt.head()\n"
   ]
  },
  {
   "cell_type": "markdown",
   "metadata": {},
   "source": [
    "# Calculate MFCC Coefficients for Training Data"
   ]
  },
  {
   "cell_type": "code",
   "execution_count": 113,
   "metadata": {},
   "outputs": [],
   "source": [
    "X_train = []\n",
    "for index, fname in trainAtt.fname.iteritems():\n",
    "    audioFile = train_audio_path + '/' + fname\n",
    "    data, sr = librosa.load(audioFile)\n",
    "    #Calculate mfcc coefficients for every frame of each sample\n",
    "    mfcc = librosa.feature.mfcc(y=data,sr=sr,n_mfcc=13)\n",
    "    #Save means of each coefficient into a training array\n",
    "    X_train.append(np.mean(mfcc,axis=1))\n"
   ]
  },
  {
   "cell_type": "code",
   "execution_count": 117,
   "metadata": {},
   "outputs": [
    {
     "data": {
      "text/plain": [
       "(9473, 13)"
      ]
     },
     "execution_count": 117,
     "metadata": {},
     "output_type": "execute_result"
    }
   ],
   "source": [
    "np.shape(X_train)"
   ]
  },
  {
   "cell_type": "code",
   "execution_count": 114,
   "metadata": {},
   "outputs": [],
   "source": [
    "#Save array to file\n",
    "outfile = 'MFCCmeans.npy'\n",
    "np.save(outfile,X_train)"
   ]
  },
  {
   "cell_type": "markdown",
   "metadata": {},
   "source": [
    "# Fit a KNN Classifier to Training Data"
   ]
  },
  {
   "cell_type": "code",
   "execution_count": 318,
   "metadata": {},
   "outputs": [
    {
     "data": {
      "text/plain": [
       "KNeighborsClassifier(algorithm='auto', leaf_size=30, metric='minkowski',\n",
       "           metric_params=None, n_jobs=1, n_neighbors=20, p=2,\n",
       "           weights='uniform')"
      ]
     },
     "execution_count": 318,
     "metadata": {},
     "output_type": "execute_result"
    }
   ],
   "source": [
    "#Fit a KNN with 20 neighbors to hopefully limit the number of times there are ties between the top 3 classes\n",
    "knn = KNeighborsClassifier(n_neighbors=20)\n",
    "#Fit the model\n",
    "knn.fit(X_train, trainAtt.label)"
   ]
  },
  {
   "cell_type": "code",
   "execution_count": 319,
   "metadata": {},
   "outputs": [],
   "source": [
    "#Predicitions of classification probability on Training Data\n",
    "ypred_train=knn.predict_proba(X_train)"
   ]
  },
  {
   "cell_type": "code",
   "execution_count": 320,
   "metadata": {},
   "outputs": [
    {
     "data": {
      "text/plain": [
       "array([ 0.  ,  0.05,  0.  ,  0.  ,  0.  ,  0.  ,  0.  ,  0.  ,  0.  ,\n",
       "        0.  ,  0.  ,  0.  ,  0.  ,  0.  ,  0.  ,  0.05,  0.  ,  0.05,\n",
       "        0.4 ,  0.  ,  0.  ,  0.  ,  0.  ,  0.1 ,  0.  ,  0.  ,  0.05,\n",
       "        0.05,  0.  ,  0.1 ,  0.05,  0.  ,  0.05,  0.  ,  0.  ,  0.  ,\n",
       "        0.  ,  0.  ,  0.  ,  0.05,  0.  ])"
      ]
     },
     "execution_count": 320,
     "metadata": {},
     "output_type": "execute_result"
    }
   ],
   "source": [
    "#View the probabilities for the classification of the first audio file in the dataframe\n",
    "ypred_train[0]"
   ]
  },
  {
   "cell_type": "code",
   "execution_count": 321,
   "metadata": {},
   "outputs": [
    {
     "data": {
      "text/plain": [
       "array([18, 29, 23])"
      ]
     },
     "execution_count": 321,
     "metadata": {},
     "output_type": "execute_result"
    }
   ],
   "source": [
    "#List the indexes of the highest class probabilities. \n",
    "(-ypred[0]).argsort()[:3]"
   ]
  },
  {
   "cell_type": "code",
   "execution_count": 322,
   "metadata": {},
   "outputs": [
    {
     "data": {
      "text/plain": [
       "array(['Flute', 'Oboe', 'Hi-hat'], dtype=object)"
      ]
     },
     "execution_count": 322,
     "metadata": {},
     "output_type": "execute_result"
    }
   ],
   "source": [
    "#Match to actual labels\n",
    "labelList[(-ypred[0]).argsort()[:3]]"
   ]
  },
  {
   "cell_type": "markdown",
   "metadata": {},
   "source": [
    "# Calculate MFCC Coefficient Means for Test Data"
   ]
  },
  {
   "cell_type": "code",
   "execution_count": 198,
   "metadata": {
    "scrolled": true
   },
   "outputs": [
    {
     "data": {
      "text/html": [
       "<div>\n",
       "<style>\n",
       "    .dataframe thead tr:only-child th {\n",
       "        text-align: right;\n",
       "    }\n",
       "\n",
       "    .dataframe thead th {\n",
       "        text-align: left;\n",
       "    }\n",
       "\n",
       "    .dataframe tbody tr th {\n",
       "        vertical-align: top;\n",
       "    }\n",
       "</style>\n",
       "<table border=\"1\" class=\"dataframe\">\n",
       "  <thead>\n",
       "    <tr style=\"text-align: right;\">\n",
       "      <th></th>\n",
       "      <th>fname</th>\n",
       "      <th>label</th>\n",
       "    </tr>\n",
       "  </thead>\n",
       "  <tbody>\n",
       "    <tr>\n",
       "      <th>0</th>\n",
       "      <td>00063640.wav</td>\n",
       "      <td>Laughter Hi-Hat Flute</td>\n",
       "    </tr>\n",
       "    <tr>\n",
       "      <th>1</th>\n",
       "      <td>0013a1db.wav</td>\n",
       "      <td>Laughter Hi-Hat Flute</td>\n",
       "    </tr>\n",
       "    <tr>\n",
       "      <th>2</th>\n",
       "      <td>002bb878.wav</td>\n",
       "      <td>Laughter Hi-Hat Flute</td>\n",
       "    </tr>\n",
       "    <tr>\n",
       "      <th>3</th>\n",
       "      <td>002d392d.wav</td>\n",
       "      <td>Laughter Hi-Hat Flute</td>\n",
       "    </tr>\n",
       "    <tr>\n",
       "      <th>4</th>\n",
       "      <td>00326aa9.wav</td>\n",
       "      <td>Laughter Hi-Hat Flute</td>\n",
       "    </tr>\n",
       "  </tbody>\n",
       "</table>\n",
       "</div>"
      ],
      "text/plain": [
       "          fname                  label\n",
       "0  00063640.wav  Laughter Hi-Hat Flute\n",
       "1  0013a1db.wav  Laughter Hi-Hat Flute\n",
       "2  002bb878.wav  Laughter Hi-Hat Flute\n",
       "3  002d392d.wav  Laughter Hi-Hat Flute\n",
       "4  00326aa9.wav  Laughter Hi-Hat Flute"
      ]
     },
     "metadata": {},
     "output_type": "display_data"
    },
    {
     "name": "stdout",
     "output_type": "stream",
     "text": [
      "Number of Test Samples: 9400\n"
     ]
    }
   ],
   "source": [
    "#Import Test data filenames from csv\n",
    "testfNames = pd.read_csv(path + '/sample_submission.csv')\n",
    "#View structure of imported dataframe\n",
    "display(testfNames.head())\n",
    "#View number of test samples\n",
    "print(\"Number of Test Samples:\",len(testfNames.fname))"
   ]
  },
  {
   "cell_type": "code",
   "execution_count": null,
   "metadata": {
    "collapsed": true
   },
   "outputs": [],
   "source": [
    "SAMPLE_RATE = 44100\n",
    "#returns mfcc features with mean and standard deviation along time\n",
    "def get_mfcc(name, path):\n",
    "    b, _ = librosa.core.load(path + name, sr = SAMPLE_RATE)\n",
    "    assert _ == SAMPLE_RATE\n",
    "    try:\n",
    "        gmm = librosa.feature.mfcc(b, sr = SAMPLE_RATE, n_mfcc=13)\n",
    "        return pd.Series(np.hstack((np.mean(gmm, axis=1), np.std(gmm, axis=1))))\n",
    "    except:\n",
    "        print('bad file')\n",
    "        return pd.Series([0]*40)"
   ]
  },
  {
   "cell_type": "code",
   "execution_count": 256,
   "metadata": {
    "scrolled": true
   },
   "outputs": [
    {
     "name": "stderr",
     "output_type": "stream",
     "text": [
      "  3% (338 of 9400) |                       | Elapsed Time: 0:03:00 ETA: 2:42:33"
     ]
    },
    {
     "name": "stdout",
     "output_type": "stream",
     "text": [
      "bad file 388\n"
     ]
    },
    {
     "name": "stderr",
     "output_type": "stream",
     "text": [
      " 37% (3484 of 9400) |########              | Elapsed Time: 0:23:15 ETA: 6:16:30"
     ]
    },
    {
     "name": "stdout",
     "output_type": "stream",
     "text": [
      "bad file 4009\n"
     ]
    },
    {
     "name": "stderr",
     "output_type": "stream",
     "text": [
      " 61% (5795 of 9400) |#############         | Elapsed Time: 0:34:05 ETA: 0:34:07"
     ]
    },
    {
     "name": "stdout",
     "output_type": "stream",
     "text": [
      "bad file 6603\n"
     ]
    },
    {
     "name": "stderr",
     "output_type": "stream",
     "text": [
      "100% (9400 of 9400) |#####################| Elapsed Time: 0:44:46 Time: 0:44:46\n"
     ]
    }
   ],
   "source": [
    "X_test = []\n",
    "SAMPLE_RATE = 44100\n",
    "pbar = ProgressBar()\n",
    "for index in pbar(range(0,len(testfNames.fname))):\n",
    "    audioFile = test_audio_path + '/' + testfNames.fname[index]\n",
    "    data = librosa.load(audioFile)[0]\n",
    "    try:\n",
    "        #Calculate mfcc coefficients for every frame of each sample\n",
    "        mfcc = librosa.feature.mfcc(y=data,sr=SAMPLE_RATE,n_mfcc=13)\n",
    "        #Save means of each coefficient into a training array\n",
    "        X_test.append(np.mean(mfcc,axis=1))\n",
    "    except:\n",
    "        X_test.append(9999)\n",
    "        print('bad file', index)\n",
    "        "
   ]
  },
  {
   "cell_type": "code",
   "execution_count": 297,
   "metadata": {},
   "outputs": [],
   "source": [
    "#Save array to file\n",
    "outfile = 'MFCCmeansTest.npy'\n",
    "np.save(outfile,X_test)"
   ]
  },
  {
   "cell_type": "code",
   "execution_count": 266,
   "metadata": {},
   "outputs": [
    {
     "name": "stdout",
     "output_type": "stream",
     "text": [
      "/Users/humza/Documents/Kaggle/DCASE2018/RawData/audio_test/0b0427e2.wav\n"
     ]
    },
    {
     "data": {
      "text/html": [
       "\n",
       "                <audio controls=\"controls\" >\n",
       "                    <source src=\"data:audio/x-wav;base64,UklGRiQAAABXQVZFZm10IBAAAAABAAEARKwAAIhYAQACABAAZGF0YQAAAAA=\" type=\"audio/x-wav\" />\n",
       "                    Your browser does not support the audio element.\n",
       "                </audio>\n",
       "              "
      ],
      "text/plain": [
       "<IPython.lib.display.Audio object>"
      ]
     },
     "execution_count": 266,
     "metadata": {},
     "output_type": "execute_result"
    }
   ],
   "source": [
    "#BAD FILE INDEXES: 388, 4009, 6603\n",
    "\n",
    "audioFile = test_audio_path + '/' + testfNames.fname[388]\n",
    "print(audioFile)\n",
    "ipd.Audio(audioFile)\n"
   ]
  },
  {
   "cell_type": "code",
   "execution_count": 295,
   "metadata": {},
   "outputs": [
    {
     "data": {
      "text/plain": [
       "(9400, 13)"
      ]
     },
     "execution_count": 295,
     "metadata": {},
     "output_type": "execute_result"
    }
   ],
   "source": [
    "np.shape(X_test)"
   ]
  },
  {
   "cell_type": "markdown",
   "metadata": {},
   "source": [
    "# Predict Test Labels"
   ]
  },
  {
   "cell_type": "code",
   "execution_count": 381,
   "metadata": {},
   "outputs": [],
   "source": [
    "#Predicitions of classification probability on Training Data\n",
    "ypred_test=knn.predict_proba(X_test)\n",
    "test_labels = []\n",
    "\n",
    "for index in range(0,len(testfNames.fname)):\n",
    "    #Match to actual labels\n",
    "    test_labels.append(labelList[(-ypred_test[index]).argsort()[:3]])"
   ]
  },
  {
   "cell_type": "markdown",
   "metadata": {},
   "source": [
    "# Submission Output"
   ]
  },
  {
   "cell_type": "code",
   "execution_count": 395,
   "metadata": {},
   "outputs": [],
   "source": [
    "subcsv = pd.DataFrame()\n",
    "subcsv['fname'] = testfNames.fname\n",
    "subcsv['label'] = np.empty(len(testfNames.fname))"
   ]
  },
  {
   "cell_type": "code",
   "execution_count": 398,
   "metadata": {},
   "outputs": [
    {
     "data": {
      "text/html": [
       "<div>\n",
       "<style>\n",
       "    .dataframe thead tr:only-child th {\n",
       "        text-align: right;\n",
       "    }\n",
       "\n",
       "    .dataframe thead th {\n",
       "        text-align: left;\n",
       "    }\n",
       "\n",
       "    .dataframe tbody tr th {\n",
       "        vertical-align: top;\n",
       "    }\n",
       "</style>\n",
       "<table border=\"1\" class=\"dataframe\">\n",
       "  <thead>\n",
       "    <tr style=\"text-align: right;\">\n",
       "      <th></th>\n",
       "      <th>fname</th>\n",
       "      <th>label</th>\n",
       "    </tr>\n",
       "  </thead>\n",
       "  <tbody>\n",
       "    <tr>\n",
       "      <th>0</th>\n",
       "      <td>00063640.wav</td>\n",
       "      <td>Tambourine Finger_snapping Scissors</td>\n",
       "    </tr>\n",
       "    <tr>\n",
       "      <th>1</th>\n",
       "      <td>0013a1db.wav</td>\n",
       "      <td>Finger_snapping Violin_or_fiddle Shatter</td>\n",
       "    </tr>\n",
       "    <tr>\n",
       "      <th>2</th>\n",
       "      <td>002bb878.wav</td>\n",
       "      <td>Bus Acoustic_guitar Bass_drum</td>\n",
       "    </tr>\n",
       "    <tr>\n",
       "      <th>3</th>\n",
       "      <td>002d392d.wav</td>\n",
       "      <td>Gong Knock Electric_piano</td>\n",
       "    </tr>\n",
       "    <tr>\n",
       "      <th>4</th>\n",
       "      <td>00326aa9.wav</td>\n",
       "      <td>Oboe Clarinet Flute</td>\n",
       "    </tr>\n",
       "  </tbody>\n",
       "</table>\n",
       "</div>"
      ],
      "text/plain": [
       "          fname                                     label\n",
       "0  00063640.wav       Tambourine Finger_snapping Scissors\n",
       "1  0013a1db.wav  Finger_snapping Violin_or_fiddle Shatter\n",
       "2  002bb878.wav             Bus Acoustic_guitar Bass_drum\n",
       "3  002d392d.wav                 Gong Knock Electric_piano\n",
       "4  00326aa9.wav                       Oboe Clarinet Flute"
      ]
     },
     "execution_count": 398,
     "metadata": {},
     "output_type": "execute_result"
    }
   ],
   "source": [
    "subcsv.head()"
   ]
  },
  {
   "cell_type": "code",
   "execution_count": 396,
   "metadata": {
    "scrolled": true
   },
   "outputs": [
    {
     "name": "stderr",
     "output_type": "stream",
     "text": [
      "/Users/humza/anaconda2/envs/dcase2018/lib/python3.6/site-packages/ipykernel_launcher.py:2: SettingWithCopyWarning: \n",
      "A value is trying to be set on a copy of a slice from a DataFrame\n",
      "\n",
      "See the caveats in the documentation: http://pandas.pydata.org/pandas-docs/stable/indexing.html#indexing-view-versus-copy\n",
      "  \n",
      "/Users/humza/anaconda2/envs/dcase2018/lib/python3.6/site-packages/pandas/core/indexing.py:179: SettingWithCopyWarning: \n",
      "A value is trying to be set on a copy of a slice from a DataFrame\n",
      "\n",
      "See the caveats in the documentation: http://pandas.pydata.org/pandas-docs/stable/indexing.html#indexing-view-versus-copy\n",
      "  self._setitem_with_indexer(indexer, value)\n"
     ]
    }
   ],
   "source": [
    "for index in range(0,9400):\n",
    "    subcsv['label'][index] = ' '.join(map(str, test_labels[index]))"
   ]
  },
  {
   "cell_type": "code",
   "execution_count": 399,
   "metadata": {
    "collapsed": true
   },
   "outputs": [],
   "source": [
    "#Save CSV\n",
    "subcsv.to_csv('submission.csv', index=False)"
   ]
  },
  {
   "cell_type": "code",
   "execution_count": null,
   "metadata": {
    "collapsed": true
   },
   "outputs": [],
   "source": []
  }
 ],
 "metadata": {
  "kernelspec": {
   "display_name": "dcase2018",
   "language": "python",
   "name": "dcase2018"
  },
  "language_info": {
   "codemirror_mode": {
    "name": "ipython",
    "version": 3
   },
   "file_extension": ".py",
   "mimetype": "text/x-python",
   "name": "python",
   "nbconvert_exporter": "python",
   "pygments_lexer": "ipython3",
   "version": "3.6.2"
  }
 },
 "nbformat": 4,
 "nbformat_minor": 2
}
